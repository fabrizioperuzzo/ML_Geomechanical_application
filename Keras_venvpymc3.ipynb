{
 "cells": [
  {
   "cell_type": "code",
   "execution_count": 2,
   "metadata": {},
   "outputs": [
    {
     "name": "stdout",
     "output_type": "stream",
     "text": [
      "C:\\ProgramData\\Anaconda3_1\\envs\\pymc3venv\\python.exe\n"
     ]
    }
   ],
   "source": [
    "#!/usr/bin/env conda run -n pymc3venv python\n",
    "import sys\n",
    "print(sys.executable)"
   ]
  },
  {
   "cell_type": "code",
   "execution_count": 7,
   "metadata": {},
   "outputs": [],
   "source": [
    "import pandas as pd\n",
    "from keras.models import Sequential\n",
    "from keras.layers import Dense\n",
    "from keras.callbacks import EarlyStopping\n",
    "import tensorflow as tf"
   ]
  },
  {
   "cell_type": "code",
   "execution_count": 40,
   "metadata": {},
   "outputs": [],
   "source": [
    "X_train = pd.read_csv('X_keras.csv', index_col=0)\n",
    "y_train = pd.read_csv('y_keras.csv',header=None, index_col=0)\n",
    "X_test = pd.read_csv('Xt_keras.csv', index_col=0)"
   ]
  },
  {
   "cell_type": "code",
   "execution_count": null,
   "metadata": {},
   "outputs": [],
   "source": []
  },
  {
   "cell_type": "code",
   "execution_count": 38,
   "metadata": {},
   "outputs": [
    {
     "name": "stdout",
     "output_type": "stream",
     "text": [
      "Train on 51 samples, validate on 23 samples\n",
      "Epoch 1/30\n",
      "51/51 [==============================] - 5s 92ms/step - loss: 109284452.5680 - val_loss: 2265823.7500\n",
      "Epoch 2/30\n",
      "51/51 [==============================] - 3s 61ms/step - loss: 2358023.1814 - val_loss: 27353.0703\n",
      "Epoch 3/30\n",
      "51/51 [==============================] - 3s 57ms/step - loss: 47086.7973 - val_loss: 19579.1055\n",
      "Epoch 4/30\n",
      "51/51 [==============================] - 3s 61ms/step - loss: 16477.0367 - val_loss: 53.3898\n",
      "Epoch 5/30\n",
      "51/51 [==============================] - 3s 57ms/step - loss: 2636.1785 - val_loss: 744.4650\n",
      "Epoch 6/30\n",
      "51/51 [==============================] - 3s 56ms/step - loss: 878.1519 - val_loss: 2138.4910\n",
      "Epoch 7/30\n",
      "51/51 [==============================] - 3s 57ms/step - loss: 982.8362 - val_loss: 1512.7638\n"
     ]
    },
    {
     "data": {
      "text/plain": [
       "<keras.callbacks.callbacks.History at 0x1cfce16e448>"
      ]
     },
     "execution_count": 38,
     "metadata": {},
     "output_type": "execute_result"
    }
   ],
   "source": [
    "model = Sequential()\n",
    "\n",
    "#Add model layers 2 hidden layer and an output layer\n",
    "#Dense is a standard layer type that works for most cases\n",
    "#We have 10 nodes in each of our input layers (higher the better but slower)\n",
    "#‘Activation’ is a function allowing for nonlinear relationships\n",
    "#The activation function we will be using is ReLU or Rectified Linear\n",
    "#The first layer needs an input shape; n° of rows and columns in the input. \n",
    "#Note: There is nothing after the comma: indicate any amount of rows\n",
    "\n",
    "model.add(Dense(10000,activation='relu',input_shape=(X_train.shape[1],)))\n",
    "model.add(Dense(10000,activation='relu'))\n",
    "model.add(Dense(10000,activation='relu'))\n",
    "model.add(Dense(1))\n",
    "\n",
    "model.compile(optimizer='adam', loss='mean_squared_error')\n",
    "early_stopping_monitor = EarlyStopping(patience=3)\n",
    "model.fit(X_train, y_train, validation_split=0.3, epochs=30, callbacks=[early_stopping_monitor])"
   ]
  },
  {
   "cell_type": "code",
   "execution_count": 41,
   "metadata": {},
   "outputs": [],
   "source": [
    "test_y_predictions = model.predict(X_test)"
   ]
  },
  {
   "cell_type": "code",
   "execution_count": 43,
   "metadata": {},
   "outputs": [],
   "source": [
    "XY_test = X_test.copy()\n",
    "XY_test['elastic_mod'] = test_y_predictions"
   ]
  },
  {
   "cell_type": "code",
   "execution_count": 44,
   "metadata": {},
   "outputs": [],
   "source": [
    "XY_test.to_csv('Xtest_y.csv')"
   ]
  },
  {
   "cell_type": "code",
   "execution_count": null,
   "metadata": {},
   "outputs": [],
   "source": []
  },
  {
   "cell_type": "code",
   "execution_count": null,
   "metadata": {},
   "outputs": [],
   "source": []
  },
  {
   "cell_type": "code",
   "execution_count": null,
   "metadata": {},
   "outputs": [],
   "source": []
  }
 ],
 "metadata": {
  "kernelspec": {
   "display_name": "Python 3",
   "language": "python",
   "name": "python3"
  },
  "language_info": {
   "codemirror_mode": {
    "name": "ipython",
    "version": 3
   },
   "file_extension": ".py",
   "mimetype": "text/x-python",
   "name": "python",
   "nbconvert_exporter": "python",
   "pygments_lexer": "ipython3",
   "version": "3.7.4"
  }
 },
 "nbformat": 4,
 "nbformat_minor": 2
}
