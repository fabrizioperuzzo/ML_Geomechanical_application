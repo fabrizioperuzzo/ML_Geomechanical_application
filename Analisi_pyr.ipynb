{
 "cells": [
  {
   "cell_type": "code",
   "execution_count": 16,
   "metadata": {},
   "outputs": [],
   "source": [
    "import pandas as pd\n",
    "import matplotlib.pyplot as plt\n",
    "import scipy.stats as stats\n",
    "import researchpy as rp\n",
    "import numpy as np"
   ]
  },
  {
   "cell_type": "code",
   "execution_count": 4,
   "metadata": {},
   "outputs": [],
   "source": [
    "df0 = pd.read_csv('dati_rocce_classified.csv', sep=',', index_col=0)"
   ]
  },
  {
   "cell_type": "code",
   "execution_count": 5,
   "metadata": {},
   "outputs": [],
   "source": [
    "# data pyr\n",
    "data = df0[df0.type==3]"
   ]
  },
  {
   "cell_type": "code",
   "execution_count": 7,
   "metadata": {},
   "outputs": [
    {
     "name": "stdout",
     "output_type": "stream",
     "text": [
      "Variable: index    Data Type: int64 \n",
      "\n",
      " Number of Obs.: 47 \n",
      " Number of missing obs.: 0 \n",
      " Percent missing: 0.0 \n",
      " Number of unique values: 47 \n",
      "\n",
      " Range: [74, 230] \n",
      " Mean: 121.64 \n",
      " Standard Deviation: 42.74 \n",
      " Mode: 74 \n",
      " 10th Percentile: 78.6 \n",
      " 25th Percentile: 85.5 \n",
      " 50th Percentile: 119.0 \n",
      " 75th Percentile: 149.0 \n",
      " 90th Percentile: 179.0 \n",
      "\n",
      "\n",
      "\n",
      "\n",
      "\n",
      "Variable: name    Data Type: object \n",
      "\n",
      " Number of Obs.: 47 \n",
      " Number of missing obs.: 0 \n",
      " Percent missing: 0.0 \n",
      " Number of unique values: 47 \n",
      "\n",
      " Data Values and Counts: \n",
      " \n",
      "    Values  Frequency\n",
      "   B - 10          1\n",
      "   B - 11          1\n",
      "   B - 12          1\n",
      "    B - 7          1\n",
      "    B - 8          1\n",
      "    B - 9          1\n",
      "  BHA-109          1\n",
      "  BHA-118          1\n",
      "  BHA-119          1\n",
      "  BHA-136          1\n",
      "   BHA-21          1\n",
      "   BHA-24          1\n",
      "   BHA-26          1\n",
      "   BHA-27          1\n",
      "   BHA-28          1\n",
      "   BHA-30          1\n",
      "   BHA-32          1\n",
      "   BHA-33          1\n",
      "   BHA-34          1\n",
      "   BHA-39          1\n",
      "   BHA-50          1\n",
      "   BHA-52          1\n",
      "   BHA-54          1\n",
      "   BHA-56          1\n",
      "   BHA-60          1\n",
      "   BHA-63          1\n",
      "   BHA-65          1\n",
      "   BHA-74          1\n",
      "   BHA-77          1\n",
      "   BHA-83          1\n",
      "   BHA-88          1\n",
      " PYR - 10          1\n",
      " PYR - 11          1\n",
      " PYR - 13          1\n",
      " PYR - 14          1\n",
      " PYR - 15          1\n",
      " PYR - 16          1\n",
      " PYR - 17          1\n",
      " PYR - 18          1\n",
      "  PYR - 7          1\n",
      "  PYR - 9          1\n",
      "    PYR-1          1\n",
      "    PYR-2          1\n",
      "    PYR-3          1\n",
      "    PYR-4          1\n",
      "    PYR-5          1\n",
      "    PYR-6          1\n",
      "\n",
      "\n",
      "\n",
      "\n",
      "Variable: dry_weight    Data Type: float64 \n",
      "\n",
      " Number of Obs.: 47 \n",
      " Number of missing obs.: 0 \n",
      " Percent missing: 0.0 \n",
      " Number of unique values: 41 \n",
      "\n",
      " Range: [1586.0, 2864.0] \n",
      " Mean: 1985.79 \n",
      " Standard Deviation: 210.33 \n",
      " Mode: 2038.0 \n",
      " 10th Percentile: 1733.0 \n",
      " 25th Percentile: 1901.0 \n",
      " 50th Percentile: 1987.0 \n",
      " 75th Percentile: 2038.0 \n",
      " 90th Percentile: 2170.3999999999996 \n",
      "\n",
      "\n",
      "\n",
      "\n",
      "\n",
      "Variable: water_cont    Data Type: float64 \n",
      "\n",
      " Number of Obs.: 47 \n",
      " Number of missing obs.: 0 \n",
      " Percent missing: 0.0 \n",
      " Number of unique values: 33 \n",
      "\n",
      " Range: [1.0, 13.0] \n",
      " Mean: 6.04 \n",
      " Standard Deviation: 2.13 \n",
      " Mode: 5.0 \n",
      " 10th Percentile: 4.0 \n",
      " 25th Percentile: 5.0 \n",
      " 50th Percentile: 5.82 \n",
      " 75th Percentile: 6.705 \n",
      " 90th Percentile: 8.0 \n",
      "\n",
      "\n",
      "\n",
      "\n",
      "\n",
      "Variable: UCS    Data Type: float64 \n",
      "\n",
      " Number of Obs.: 47 \n",
      " Number of missing obs.: 0 \n",
      " Percent missing: 0.0 \n",
      " Number of unique values: 44 \n",
      "\n",
      " Range: [2.6, 74.81] \n",
      " Mean: 13.72 \n",
      " Standard Deviation: 10.45 \n",
      " Mode: 14.3 \n",
      " 10th Percentile: 7.2399999999999975 \n",
      " 25th Percentile: 9.200999999999995 \n",
      " 50th Percentile: 12.2 \n",
      " 75th Percentile: 15.412499999999998 \n",
      " 90th Percentile: 19.2 \n",
      "\n",
      "\n",
      "\n",
      "\n",
      "\n",
      "Variable: elastic_mod    Data Type: float64 \n",
      "\n",
      " Number of Obs.: 47 \n",
      " Number of missing obs.: 0 \n",
      " Percent missing: 0.0 \n",
      " Number of unique values: 41 \n",
      "\n",
      " Range: [3.3, 35.77574203042641] \n",
      " Mean: 7.49 \n",
      " Standard Deviation: 4.99 \n",
      " Mode: 5.6 \n",
      " 10th Percentile: 4.9 \n",
      " 25th Percentile: 5.630291961383662 \n",
      " 50th Percentile: 6.6 \n",
      " 75th Percentile: 7.4 \n",
      " 90th Percentile: 9.108931745257722 \n",
      "\n",
      "\n",
      "\n",
      "\n",
      "\n",
      "Variable: poisson    Data Type: float64 \n",
      "\n",
      " Number of Obs.: 47 \n",
      " Number of missing obs.: 0 \n",
      " Percent missing: 0.0 \n",
      " Number of unique values: 38 \n",
      "\n",
      " Range: [0.06, 0.41] \n",
      " Mean: 0.2 \n",
      " Standard Deviation: 0.08 \n",
      " Mode: 0.1 \n",
      " 10th Percentile: 0.10600000000000001 \n",
      " 25th Percentile: 0.15349999999999991 \n",
      " 50th Percentile: 0.19600000000000006 \n",
      " 75th Percentile: 0.239 \n",
      " 90th Percentile: 0.29936 \n",
      "\n",
      "\n",
      "\n",
      "\n",
      "\n",
      "Variable: type    Data Type: int64 \n",
      "\n",
      " Number of Obs.: 47 \n",
      " Number of missing obs.: 0 \n",
      " Percent missing: 0.0 \n",
      " Number of unique values: 1 \n",
      "\n",
      " Range: [3, 3] \n",
      " Mean: 3.0 \n",
      " Standard Deviation: 0.0 \n",
      " Mode: 3 \n",
      " 10th Percentile: 3.0 \n",
      " 25th Percentile: 3.0 \n",
      " 50th Percentile: 3.0 \n",
      " 75th Percentile: 3.0 \n",
      " 90th Percentile: 3.0 \n",
      "\n",
      "\n",
      "\n",
      "\n",
      "\n",
      "Variable: rock_type    Data Type: object \n",
      "\n",
      " Number of Obs.: 47 \n",
      " Number of missing obs.: 0 \n",
      " Percent missing: 0.0 \n",
      " Number of unique values: 1 \n",
      "\n",
      " Data Values and Counts: \n",
      " \n",
      " Values  Frequency\n",
      "   PYR         47\n",
      "\n",
      "\n",
      "\n",
      "\n",
      "Variable: T    Data Type: float64 \n",
      "\n",
      " Number of Obs.: 47 \n",
      " Number of missing obs.: 0 \n",
      " Percent missing: 0.0 \n",
      " Number of unique values: 47 \n",
      "\n",
      " Range: [0.38, 6.176391595238114] \n",
      " Mean: 2.06 \n",
      " Standard Deviation: 1.06 \n",
      " Mode: 0.38 \n",
      " 10th Percentile: 1.002362597142864 \n",
      " 25th Percentile: 1.5950000000000002 \n",
      " 50th Percentile: 2.04 \n",
      " 75th Percentile: 2.2597511571428264 \n",
      " 90th Percentile: 2.738 \n",
      "\n",
      "\n",
      "\n",
      "\n",
      "\n",
      "Variable: pred_class    Data Type: int64 \n",
      "\n",
      " Number of Obs.: 47 \n",
      " Number of missing obs.: 0 \n",
      " Percent missing: 0.0 \n",
      " Number of unique values: 1 \n",
      "\n",
      " Range: [1, 1] \n",
      " Mean: 1.0 \n",
      " Standard Deviation: 0.0 \n",
      " Mode: 1 \n",
      " 10th Percentile: 1.0 \n",
      " 25th Percentile: 1.0 \n",
      " 50th Percentile: 1.0 \n",
      " 75th Percentile: 1.0 \n",
      " 90th Percentile: 1.0 \n",
      "\n",
      "\n",
      "\n",
      "\n",
      "\n",
      "Variable: type_str    Data Type: object \n",
      "\n",
      " Number of Obs.: 47 \n",
      " Number of missing obs.: 0 \n",
      " Percent missing: 0.0 \n",
      " Number of unique values: 1 \n",
      "\n",
      " Data Values and Counts: \n",
      " \n",
      "       Values  Frequency\n",
      " Pyroclastic         47\n",
      "\n",
      "\n",
      "\n",
      "\n"
     ]
    }
   ],
   "source": [
    "rp.codebook(df0[df0.type==3])"
   ]
  },
  {
   "cell_type": "code",
   "execution_count": 10,
   "metadata": {},
   "outputs": [
    {
     "data": {
      "text/plain": [
       "5.99"
      ]
     },
     "execution_count": 10,
     "metadata": {},
     "output_type": "execute_result"
    }
   ],
   "source": [
    "df0[df0.type==3].UCS.quantile(0.05)"
   ]
  },
  {
   "cell_type": "code",
   "execution_count": 11,
   "metadata": {},
   "outputs": [
    {
     "data": {
      "text/plain": [
       "1.959963984540054"
      ]
     },
     "execution_count": 11,
     "metadata": {},
     "output_type": "execute_result"
    }
   ],
   "source": [
    "# note for small population e.i. n<30 use the t distr\n",
    "z = stats.norm.ppf(0.975)\n",
    "z"
   ]
  },
  {
   "cell_type": "code",
   "execution_count": 18,
   "metadata": {},
   "outputs": [
    {
     "data": {
      "text/plain": [
       "(10.449933342338385, 1.5242794381337534, 13.721663829787234)"
      ]
     },
     "execution_count": 18,
     "metadata": {},
     "output_type": "execute_result"
    }
   ],
   "source": [
    "# mu +- z * sigma/radq(n)   \n",
    "# mu +- z * SE\n",
    "sigma = df0[df0.type==3].UCS.std()\n",
    "SE = sigma / np.sqrt(df0[df0.type==3].shape[0])\n",
    "mu = df0[df0.type==3].UCS.mean()\n",
    "sigma, SE, mu"
   ]
  },
  {
   "cell_type": "code",
   "execution_count": 86,
   "metadata": {},
   "outputs": [
    {
     "data": {
      "text/plain": [
       "(10.734131028670127, 16.70919663090434)"
      ]
     },
     "execution_count": 86,
     "metadata": {},
     "output_type": "execute_result"
    }
   ],
   "source": [
    "CI_inf = mu - z * SE\n",
    "CI_sup = mu + z * SE\n",
    "CI_inf, CI_sup"
   ]
  },
  {
   "cell_type": "code",
   "execution_count": 96,
   "metadata": {},
   "outputs": [],
   "source": [
    "# un altro modo è stimare la curva normale dal fit\n",
    "# The location (loc) keyword specifies the mean. The scale (scale) keyword specifies the standard deviation."
   ]
  },
  {
   "cell_type": "code",
   "execution_count": 19,
   "metadata": {},
   "outputs": [
    {
     "data": {
      "image/png": "[encoded data removed]",
      "text/plain": [
       "<Figure size 432x288 with 1 Axes>"
      ]
     },
     "metadata": {
      "needs_background": "light"
     },
     "output_type": "display_data"
    }
   ],
   "source": [
    "loc,scale = stats.norm.fit(df0[df0.type==3].UCS)\n",
    "x = np.linspace(stats.norm.ppf(0.01,loc,scale),stats.norm.ppf(0.99,loc,scale),100)\n",
    "y = stats.norm.pdf(x, loc, scale)\n",
    "fig, ax = plt.subplots(1,1)\n",
    "ax.plot(x,y,'k-')\n",
    "ax.hist(df0[df0.type==3].UCS, density=True, histtype='stepfilled', alpha=0.2, bins=30)\n",
    "# uso questo altrimenti mi mette a video i valori dell'istogramma\n",
    "q005 = stats.norm.ppf(0.05,loc,scale).round(2)\n",
    "mean = stats.norm.ppf(0.5,loc,scale).round(2)\n",
    "ax.text(x.max()*0.999,y.max()*0.999,f' mean = {mean} \\n q0.05 = {q005}', fontsize=11)\n",
    "\n",
    "plt.show()"
   ]
  },
  {
   "cell_type": "markdown",
   "metadata": {},
   "source": [
    "#### provo la stima con una funzione lognormale"
   ]
  },
  {
   "cell_type": "code",
   "execution_count": 20,
   "metadata": {},
   "outputs": [
    {
     "data": {
      "image/png": "[encoded data removed]",
      "text/plain": [
       "<Figure size 432x288 with 1 Axes>"
      ]
     },
     "metadata": {
      "needs_background": "light"
     },
     "output_type": "display_data"
    }
   ],
   "source": [
    "s,loc,scale = stats.lognorm.fit(df0[df0.type==3].UCS)\n",
    "loc = loc+2\n",
    "x = np.linspace(stats.lognorm.ppf(0.01,s,loc,scale),stats.lognorm.ppf(0.99,s,loc,scale),100)\n",
    "y = stats.lognorm.pdf(x, s, loc, scale)\n",
    "fig, ax = plt.subplots(1,1)\n",
    "ax.plot(x,y,'k-')\n",
    "ax.hist(df0[df0.type==3].UCS, density=True, histtype='stepfilled', alpha=0.2, bins=30)\n",
    "# uso questo altrimenti mi mette a video i valori dell'istogramma\n",
    "q005 = stats.lognorm.ppf(0.05,s,loc,scale).round(2)\n",
    "mean = stats.lognorm.ppf(0.5,s,loc,scale).round(2)\n",
    "ax.text(x.max()*0.999,y.max()*0.999,f' mean = {mean} \\n q0.05 = {q005}', fontsize=11)\n",
    "plt.title('UCS lognorm')\n",
    "plt.show()"
   ]
  },
  {
   "cell_type": "code",
   "execution_count": 21,
   "metadata": {},
   "outputs": [
    {
     "data": {
      "image/png": "[encoded data removed]",
      "text/plain": [
       "<Figure size 432x288 with 1 Axes>"
      ]
     },
     "metadata": {
      "needs_background": "light"
     },
     "output_type": "display_data"
    }
   ],
   "source": [
    "s,loc,scale = stats.lognorm.fit(df0[df0.type==3].UCS)\n",
    "loc = loc+2\n",
    "x = np.linspace(stats.lognorm.ppf(0.01,s,loc,scale),stats.lognorm.ppf(0.99,s,loc,scale),100)\n",
    "y = stats.lognorm.pdf(x, s, loc, scale)\n",
    "fig, ax = plt.subplots(1,1)\n",
    "ax.plot(x,y,'k-')\n",
    "ax.hist(df0[df0.type==3].UCS, density=True, histtype='stepfilled', alpha=0.2, bins=30)\n",
    "# uso questo altrimenti mi mette a video i valori dell'istogramma\n",
    "q005 = stats.lognorm.ppf(0.05,s,loc,scale).round(2)\n",
    "mean = stats.lognorm.ppf(0.5,s,loc,scale).round(2)\n",
    "discm = round(df0[df0.type==3].UCS.mean(),2)\n",
    "ax.text(x.max()*0.999,y.max()*0.9,f' mean = {mean} \\n discr_mean = {discm} \\n q0.05 = {q005}', fontsize=11)\n",
    "plt.title('UCS lognorm with loc=loc+2, to fit it with discrete mean')\n",
    "plt.show()"
   ]
  },
  {
   "cell_type": "code",
   "execution_count": 22,
   "metadata": {},
   "outputs": [
    {
     "data": {
      "image/png": "[encoded data removed]",
      "text/plain": [
       "<Figure size 432x288 with 1 Axes>"
      ]
     },
     "metadata": {
      "needs_background": "light"
     },
     "output_type": "display_data"
    }
   ],
   "source": [
    "data = df0[df0.type==3].elastic_mod\n",
    "s,loc,scale = stats.lognorm.fit(data, floc=0)\n",
    "x = np.linspace(stats.lognorm.ppf(0.01,s,loc,scale),stats.lognorm.ppf(0.99,s,loc,scale),100)\n",
    "y = stats.lognorm.pdf(x, s, loc, scale)\n",
    "fig, ax = plt.subplots(1,1)\n",
    "ax.plot(x,y,'k-')\n",
    "ax.hist(df0[df0.type==3].elastic_mod, density=True, histtype='stepfilled', alpha=0.2, bins=30)\n",
    "# uso questo altrimenti mi mette a video i valori dell'istogramma\n",
    "q005 = stats.lognorm.ppf(0.05,s,loc,scale).round(2)\n",
    "q05 = stats.lognorm.ppf(0.5,s,loc,scale).round(2)\n",
    "discm = round(df0[df0.type==3].elastic_mod.mean(),2)\n",
    "mean = stats.lognorm.mean(s,loc,scale).round(2)\n",
    "var = stats.lognorm.var(s,loc,scale).round(2)\n",
    "ax.text(x.max()*0.999,y.max()*0.9,f' mean = {mean} \\n discr_mean = {discm} \\n q05 = {q05} \\n q0.05 = {q005} \\n var = {var} \\n par={round(s,2),round(loc,2),round(scale,2)}', fontsize=11)\n",
    "ax.vlines(mean,y.min(),y.max())\n",
    "ax.vlines(scale,y.min(),y.max())\n",
    "plt.title('Elastic Modulus - lognorm with loc=loc+2, to fit it with discrete mean')\n",
    "plt.show()"
   ]
  },
  {
   "cell_type": "code",
   "execution_count": 24,
   "metadata": {},
   "outputs": [
    {
     "data": {
      "image/png": "[encoded data removed]",
      "text/plain": [
       "<Figure size 432x288 with 1 Axes>"
      ]
     },
     "metadata": {
      "needs_background": "light"
     },
     "output_type": "display_data"
    }
   ],
   "source": [
    "df,loc,scale = stats.t.fit(df0[df0.type==3].UCS)\n",
    "x = np.linspace(stats.t.ppf(0.01,df,loc,scale),stats.t.ppf(0.99,df,loc,scale),100)\n",
    "y = stats.t.pdf(x, df, loc, scale)\n",
    "fig, ax = plt.subplots(1,1)\n",
    "ax.plot(x,y,'k-')\n",
    "ax.hist(df0[df0.type==3].UCS, density=True, histtype='stepfilled', alpha=0.2, bins=30)\n",
    "# uso questo altrimenti mi mette a video i valori dell'istogramma\n",
    "q005 = stats.t.ppf(0.05,df,loc,scale).round(2)\n",
    "mean = stats.t.ppf(0.5,df,loc,scale).round(2)\n",
    "ax.text(x.max()*0.999,y.max()*0.9,f' mean = {mean} \\n q0.05 = {q005}', fontsize=11)\n",
    "plt.title('t_distr UCS')\n",
    "plt.show()"
   ]
  },
  {
   "cell_type": "code",
   "execution_count": null,
   "metadata": {},
   "outputs": [],
   "source": []
  },
  {
   "cell_type": "code",
   "execution_count": null,
   "metadata": {},
   "outputs": [],
   "source": []
  },
  {
   "cell_type": "code",
   "execution_count": null,
   "metadata": {},
   "outputs": [],
   "source": []
  },
  {
   "cell_type": "code",
   "execution_count": null,
   "metadata": {},
   "outputs": [],
   "source": []
  },
  {
   "cell_type": "code",
   "execution_count": 59,
   "metadata": {},
   "outputs": [
    {
     "name": "stdout",
     "output_type": "stream",
     "text": [
      "\n",
      "\n"
     ]
    },
    {
     "data": {
      "text/html": [
       "<div>\n",
       "<style scoped>\n",
       "    .dataframe tbody tr th:only-of-type {\n",
       "        vertical-align: middle;\n",
       "    }\n",
       "\n",
       "    .dataframe tbody tr th {\n",
       "        vertical-align: top;\n",
       "    }\n",
       "\n",
       "    .dataframe thead th {\n",
       "        text-align: right;\n",
       "    }\n",
       "</style>\n",
       "<table border=\"1\" class=\"dataframe\">\n",
       "  <thead>\n",
       "    <tr style=\"text-align: right;\">\n",
       "      <th></th>\n",
       "      <th>Group</th>\n",
       "      <th>Variable</th>\n",
       "      <th>N</th>\n",
       "      <th>Mean</th>\n",
       "      <th>SD</th>\n",
       "      <th>SE</th>\n",
       "      <th>95% CI inf</th>\n",
       "      <th>95% CI sup</th>\n",
       "      <th>CV</th>\n",
       "      <th>Min</th>\n",
       "      <th>Max</th>\n",
       "    </tr>\n",
       "  </thead>\n",
       "  <tbody>\n",
       "    <tr>\n",
       "      <td>0</td>\n",
       "      <td>0</td>\n",
       "      <td>Dry weight [kg/m³]</td>\n",
       "      <td>47.0</td>\n",
       "      <td>1985.79</td>\n",
       "      <td>210.33</td>\n",
       "      <td>30.68</td>\n",
       "      <td>1924.04</td>\n",
       "      <td>2047.55</td>\n",
       "      <td>0.11</td>\n",
       "      <td>1586.00</td>\n",
       "      <td>2864.00</td>\n",
       "    </tr>\n",
       "    <tr>\n",
       "      <td>1</td>\n",
       "      <td>0</td>\n",
       "      <td>Water content [%]</td>\n",
       "      <td>47.0</td>\n",
       "      <td>6.04</td>\n",
       "      <td>2.13</td>\n",
       "      <td>0.31</td>\n",
       "      <td>5.41</td>\n",
       "      <td>6.66</td>\n",
       "      <td>0.35</td>\n",
       "      <td>1.00</td>\n",
       "      <td>13.00</td>\n",
       "    </tr>\n",
       "    <tr>\n",
       "      <td>2</td>\n",
       "      <td>0</td>\n",
       "      <td>E Young [GPa]</td>\n",
       "      <td>47.0</td>\n",
       "      <td>7.49</td>\n",
       "      <td>4.99</td>\n",
       "      <td>0.73</td>\n",
       "      <td>6.03</td>\n",
       "      <td>8.96</td>\n",
       "      <td>0.67</td>\n",
       "      <td>3.30</td>\n",
       "      <td>35.78</td>\n",
       "    </tr>\n",
       "    <tr>\n",
       "      <td>3</td>\n",
       "      <td>0</td>\n",
       "      <td>UCS [MPa]</td>\n",
       "      <td>47.0</td>\n",
       "      <td>13.72</td>\n",
       "      <td>10.45</td>\n",
       "      <td>1.52</td>\n",
       "      <td>10.65</td>\n",
       "      <td>16.79</td>\n",
       "      <td>0.76</td>\n",
       "      <td>2.60</td>\n",
       "      <td>74.81</td>\n",
       "    </tr>\n",
       "    <tr>\n",
       "      <td>4</td>\n",
       "      <td>0</td>\n",
       "      <td>Tensile Strenght [MPa]</td>\n",
       "      <td>47.0</td>\n",
       "      <td>2.06</td>\n",
       "      <td>1.06</td>\n",
       "      <td>0.15</td>\n",
       "      <td>1.75</td>\n",
       "      <td>2.37</td>\n",
       "      <td>0.51</td>\n",
       "      <td>0.38</td>\n",
       "      <td>6.18</td>\n",
       "    </tr>\n",
       "  </tbody>\n",
       "</table>\n",
       "</div>"
      ],
      "text/plain": [
       "  Group                Variable     N     Mean      SD     SE  95% CI inf  \\\n",
       "0     0      Dry weight [kg/m³]  47.0  1985.79  210.33  30.68     1924.04   \n",
       "1     0       Water content [%]  47.0     6.04    2.13   0.31        5.41   \n",
       "2     0           E Young [GPa]  47.0     7.49    4.99   0.73        6.03   \n",
       "3     0               UCS [MPa]  47.0    13.72   10.45   1.52       10.65   \n",
       "4     0  Tensile Strenght [MPa]  47.0     2.06    1.06   0.15        1.75   \n",
       "\n",
       "   95% CI sup    CV      Min      Max  \n",
       "0     2047.55  0.11  1586.00  2864.00  \n",
       "1        6.66  0.35     1.00    13.00  \n",
       "2        8.96  0.67     3.30    35.78  \n",
       "3       16.79  0.76     2.60    74.81  \n",
       "4        2.37  0.51     0.38     6.18  "
      ]
     },
     "execution_count": 59,
     "metadata": {},
     "output_type": "execute_result"
    }
   ],
   "source": [
    "descr = df0[df0.type==3][['dry_weight','water_cont', 'elastic_mod','UCS','T']].describe().T\n",
    "stat = rp.summary_cont(df0[df0.type==3][['dry_weight','water_cont', 'elastic_mod','UCS','T']])\n",
    "stat['CV'] = stat.SD/stat.Mean\n",
    "# stat['CV*'] = stat.CV*(1+1/4/stat.N)\n",
    "stat['Min'] = np.array(descr['min'])\n",
    "stat['Max'] = np.array(descr['max'])\n",
    "stat['Variable'] = ['Dry weight [kg/m³]','Water content [%]','E Young [GPa]','UCS [MPa]','Tensile Strenght [MPa]']\n",
    "stat.columns = ['Variable', 'N', 'Mean', 'SD', 'SE', '95% CI inf', '95% CI sup', 'CV', 'Min', 'Max']\n",
    "stat['Group']=classe\n",
    "stat = stat[['Group','Variable', 'N', 'Mean', 'SD', 'SE', '95% CI inf', '95% CI sup', 'CV', 'Min', 'Max']].round(2)\n",
    "stat4 = stat\n",
    "stat4"
   ]
  },
  {
   "cell_type": "code",
   "execution_count": 69,
   "metadata": {},
   "outputs": [
    {
     "data": {
      "text/plain": [
       "(1.1690335497121818, -4.180350470723322, 67.56893374888853)"
      ]
     },
     "execution_count": 69,
     "metadata": {},
     "output_type": "execute_result"
    }
   ],
   "source": [
    "stats.truncexpon.fit(df0[df0.type==3].UCS)"
   ]
  },
  {
   "cell_type": "code",
   "execution_count": 72,
   "metadata": {},
   "outputs": [
    {
     "data": {
      "text/plain": [
       "74.66023871739688"
      ]
     },
     "execution_count": 72,
     "metadata": {},
     "output_type": "execute_result"
    }
   ],
   "source": [
    "stats.truncexpon.ppf(0.999,loc= 1.1690335497121818, scale=-4.180350470723322, 67.56893374888853)"
   ]
  },
  {
   "cell_type": "code",
   "execution_count": null,
   "metadata": {},
   "outputs": [],
   "source": []
  },
  {
   "cell_type": "code",
   "execution_count": null,
   "metadata": {},
   "outputs": [],
   "source": []
  },
  {
   "cell_type": "code",
   "execution_count": null,
   "metadata": {},
   "outputs": [],
   "source": []
  }
 ],
 "metadata": {
  "kernelspec": {
   "display_name": "Python 3",
   "language": "python",
   "name": "python3"
  },
  "language_info": {
   "codemirror_mode": {
    "name": "ipython",
    "version": 3
   },
   "file_extension": ".py",
   "mimetype": "text/x-python",
   "name": "python",
   "nbconvert_exporter": "python",
   "pygments_lexer": "ipython3",
   "version": "3.7.3"
  }
 },
 "nbformat": 4,
 "nbformat_minor": 2
}
