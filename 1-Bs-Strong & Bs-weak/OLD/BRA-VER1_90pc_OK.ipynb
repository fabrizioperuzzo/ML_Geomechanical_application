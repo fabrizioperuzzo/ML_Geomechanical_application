{
 "cells": [
  {
   "cell_type": "code",
   "execution_count": null,
   "metadata": {},
   "outputs": [],
   "source": [
    "#newenv1\n",
    "#!/usr/bin/env conda run -n newenv1 python\n",
    "import sys\n",
    "print(sys.executable)    ### Shoul be this C:\\ProgramData\\Anaconda3_1\\envs\\newenv1\\python.exe"
   ]
  },
  {
   "cell_type": "code",
   "execution_count": null,
   "metadata": {},
   "outputs": [],
   "source": [
    "from IPython.core.display import display, HTML\n",
    "display(HTML(\"<style>.container { width:80% !important; }</style>\"))"
   ]
  },
  {
   "cell_type": "code",
   "execution_count": null,
   "metadata": {},
   "outputs": [],
   "source": [
    "# !{sys.executable} -m pip install tabula <- do not use\n",
    "# !{sys.executable} -m pip install tabula-py  <- ok\n",
    "# !{sys.executable} -m pip install PyPDF2\n",
    "# !{sys.executable} -m pip install tabula-py"
   ]
  },
  {
   "cell_type": "code",
   "execution_count": null,
   "metadata": {},
   "outputs": [],
   "source": [
    "import numpy as np\n",
    "import tabula\n",
    "import pandas as pd\n",
    "import PyPDF2\n",
    "import re\n",
    "import os\n",
    "import warnings\n",
    "warnings.filterwarnings('ignore')\n",
    "warnings.filterwarnings(action='once')"
   ]
  },
  {
   "cell_type": "code",
   "execution_count": null,
   "metadata": {},
   "outputs": [],
   "source": [
    "path = os.getcwd()+'\\\\DATA'\n",
    "\n",
    "files = []\n",
    "filespath = []\n",
    "# r=root, d=directories, f = files\n",
    "for r, d, f in os.walk(path):\n",
    "    for file in f:\n",
    "        if '.pdf' in file:\n",
    "            files.append(file)\n",
    "            filespath.append(os.path.join(r, file))\n",
    "            \n",
    "# since there is only one file I need only the file name\n",
    "os.path.join(r, files[0])\n",
    "files[:4]"
   ]
  },
  {
   "cell_type": "code",
   "execution_count": null,
   "metadata": {},
   "outputs": [],
   "source": [
    "# funzione per il regex automatico\n",
    "\n",
    "def findpattern(df,pattern):\n",
    "    r = re.compile(pattern)\n",
    "    for i in np.arange(0,df.shape[0],1):\n",
    "        for e in np.arange(0,df.shape[1],1):\n",
    "            if r.match(str(str(df.iloc[i,e]))): \n",
    "                return df.iloc[i,e],i,e"
   ]
  },
  {
   "cell_type": "code",
   "execution_count": null,
   "metadata": {},
   "outputs": [],
   "source": [
    "df = tabula.read_pdf('C:/Users/fpe/JUPYTER/datimacchina/Reports/HL/Station 23/HL-23-B001E.pdf', pages=[1,3])"
   ]
  },
  {
   "cell_type": "code",
   "execution_count": null,
   "metadata": {},
   "outputs": [],
   "source": [
    "def new_df_row(pdf_file):\n",
    "    \n",
    "    file=files[filespath.index(pdf_file)]\n",
    "    print(pdf_file)\n",
    "    \n",
    "    list_err = []\n",
    "    \n",
    "    try:\n",
    "    \n",
    "        df = tabula.read_pdf(pdf_file, pages=[1,3])\n",
    "\n",
    "        bra_ls = ['ERR','ERR','ERR','ERR','ERR','ERR','ERR','ERR','ERR','ERR','ERR','ERR','ERR','ERR','ERR', file]\n",
    "\n",
    "        for i in np.arange(0,len(df),1):\n",
    "\n",
    "            for e in df[i].columns:\n",
    "\n",
    "                if all (x in e for x in ['Building','Code']): \n",
    "\n",
    "                    #print(\"Found: '{}'\".format(e),' at dataframe: df[{}] and col_loc:{}'.format(i,df[i].columns.get_loc(e)))\n",
    "\n",
    "                    nome,row,col = findpattern(df[i],r'.*-.*-')\n",
    "\n",
    "                    bra_ls[0] = df[i].iloc[row,col]   # build_code\n",
    "                    bra_ls[1] = df[i].iloc[row,col+1]  # municip\n",
    "                    bra_ls[2] = df[i].iloc[row,col+2]  # street\n",
    "                    bra_ls[3] = df[i].iloc[row,col+3]  # st_num\n",
    "\n",
    "                if 'Distance to tunnel.1' in e:\n",
    "\n",
    "                    #print(\"Found: '{}'\".format(e),' at dataframe: df[{}] and col_loc:{}'.format(i,df[i].columns.get_loc(e)))\n",
    "\n",
    "                    bra_ls[4] = df[i].iloc[-1,df[i].columns.get_loc(e)]         # Distance tunnel.1\n",
    "                    bra_ls[5] = df[i].iloc[-1,df[i].columns.get_loc(e)-1]       # Distance tunnel\n",
    "                    bra_ls[6] = df[i].iloc[-1,df[i].columns.get_loc(e)-2]       # Position\n",
    "                    bra_ls[7] = df[i].iloc[-1,df[i].columns.get_loc(e)-3]       # Chainage\n",
    "\n",
    "                if 'Distance to far' in e:\n",
    "\n",
    "                    #print(\"Found: '{}'\".format(e),' at dataframe: df[{}] and col_loc:{}'.format(i,df[i].columns.get_loc(e)))\n",
    "\n",
    "                    bra_ls[4] = df[i].iloc[-1,df[i].columns.get_loc(e)]         # Distance tunnel.1\n",
    "                    bra_ls[5] = df[i].iloc[-1,df[i].columns.get_loc(e)-1]       # Distance tunnel\n",
    "                    bra_ls[6] = df[i].iloc[-1,df[i].columns.get_loc(e)-2]       # Position\n",
    "                    bra_ls[7] = df[i].iloc[-1,df[i].columns.get_loc(e)-3]       # Chainage\n",
    "                    \n",
    "                    \n",
    "                if 'Distance to Axis 1' in e:    \n",
    "\n",
    "                    #print(\"Found: '{}'\".format(e),' at dataframe: df[{}] and col_loc:{}'.format(i,df[i].columns.get_loc(e)))\n",
    "\n",
    "\n",
    "                    for ii in reversed(range(0,df[i].shape[1])): \n",
    "\n",
    "                        if (str(df[i].iloc[-1,ii]).isalpha()==False) or (str(df[i].iloc[-1,ii])=='On'): \n",
    "\n",
    "                            bra_ls[4] = df[i].iloc[-1,ii]               # Distance tunnel.1\n",
    "                            bra_ls[5] = df[i].iloc[-1,ii-1]             # Distance tunnel\n",
    "                            bra_ls[6] = df[i].iloc[-1,ii-2]             # Position\n",
    "                            bra_ls[7] = df[i].iloc[-1,ii-3]             # Chainage\n",
    "                            break                    \n",
    "                    \n",
    "\n",
    "                if any (x in e for x in ['of floors below','No of floors below','Building length']):\n",
    "\n",
    "                    #print(\"Found: '{}'\".format(e),' at dataframe: df[{}] and col_loc:{}'.format(i,df[i].columns.get_loc(e)))\n",
    "\n",
    "                    for ii in reversed(range(0,df[i].shape[1])): \n",
    "\n",
    "                        if (str(df[i].iloc[-1,ii]).isalpha()==False) or (str(df[i].iloc[-1,ii])=='N/A'): \n",
    "\n",
    "                            bra_ls[8] = df[i].iloc[-1,ii]               # No. of floors below\n",
    "                            bra_ls[9] = df[i].iloc[-1,ii-1]             # No. of floors above\n",
    "                            bra_ls[10] = df[i].iloc[-1,ii-2]             # width\n",
    "                            bra_ls[11] = df[i].iloc[-1,ii-3]             # Lenght\n",
    "                            break\n",
    "                    \n",
    "\n",
    "                if 'Constructive elements' in e:\n",
    "\n",
    "                    #print(\"Found: '{}'\".format(e),' at dataframe: df[{}] and col_loc:{}'.format(i,df[i].columns.get_loc(e)))\n",
    "\n",
    "\n",
    "                    bra_ls[12] = df[i].iloc[-1,df[i].columns.get_loc(e)]         # Constructive elements\n",
    "                    bra_ls[13] = df[i].iloc[-1,df[i].columns.get_loc(e)-1]       # Building foundations          \n",
    "\n",
    "\n",
    "        ## Find the category\n",
    "\n",
    "        object = PyPDF2.PdfFileReader(pdf_file)        \n",
    "        NumPages = object.getNumPages()\n",
    "\n",
    "        for i in range(0, NumPages):\n",
    "            PageObj = object.getPage(i)\n",
    "            Text = PageObj.extractText() \n",
    "\n",
    "\n",
    "            try:\n",
    "                posit = re.search(r\"Category:\", Text).start()\n",
    "\n",
    "                print ('La posizione alla pagina {} {}'.format(i,posit))\n",
    "\n",
    "                if 'edium' in Text[posit:posit+25]: \n",
    "                    bra_ls[14] = 'Medium'\n",
    "                elif 'ood' in Text[posit:posit+25]: \n",
    "                    bra_ls[14] = 'Good'\n",
    "                elif 'ritical' in Text[posit:posit+25]: \n",
    "                    bra_ls[14] = 'Critical'\n",
    "                elif 'Med' in Text[posit:posit+25]: \n",
    "                    bra_ls[14] = 'Medium'\n",
    "                elif 'Goo' in Text[posit:posit+25]: \n",
    "                    bra_ls[14] = 'Good'\n",
    "                elif 'Crit' in Text[posit:posit+25]: \n",
    "                    bra_ls[14] = 'Critical'\n",
    "                else:\n",
    "                    bra_ls[14] = 'Na'\n",
    "            except:\n",
    "                pass\n",
    "\n",
    "        print (bra_ls)\n",
    "        print('\\n\\n')\n",
    "        \n",
    "        \n",
    "        if 'ERR' in bra_ls: list_err.append(pdf_file)\n",
    "        \n",
    "        return bra_ls,list_err\n",
    "    \n",
    "    except:\n",
    "        \n",
    "        print('An error has occurred')\n",
    "        \n",
    "        bra_ls = ['ERR','ERR','ERR','ERR','ERR','ERR','ERR','ERR','ERR','ERR','ERR','ERR','ERR','ERR','ERR', file]\n",
    "        \n",
    "        \n",
    "        print (bra_ls)\n",
    "        print('\\n\\n')\n",
    "        \n",
    "        list_err.append(pdf_file)\n",
    "        \n",
    "        return bra_ls,list_err\n",
    "\n",
    "    \n",
    "    "
   ]
  },
  {
   "cell_type": "code",
   "execution_count": null,
   "metadata": {},
   "outputs": [],
   "source": [
    "df1 = pd.DataFrame(columns=['build_code','municip','street','st_num','dist_tnl_1','dist_tnl','posit','chain',\n",
    "                            'floor_b','floor_a','width','lenght'\n",
    "                            ,'constr_elem','build_info','Category','pdfname'])\n",
    "\n",
    "\n",
    "for file_path_ in filespath[50:52]:\n",
    "\n",
    "    row_ls = new_df_row(file_path_)[0]\n",
    "    \n",
    "    df1.loc[len(df1)]=row_ls\n",
    "    \n",
    "    \n",
    "df1    "
   ]
  },
  {
   "cell_type": "code",
   "execution_count": null,
   "metadata": {},
   "outputs": [],
   "source": [
    "df1.to_excel('db_all.xls')"
   ]
  },
  {
   "cell_type": "code",
   "execution_count": null,
   "metadata": {},
   "outputs": [],
   "source": []
  },
  {
   "cell_type": "code",
   "execution_count": null,
   "metadata": {},
   "outputs": [],
   "source": []
  },
  {
   "cell_type": "code",
   "execution_count": null,
   "metadata": {},
   "outputs": [],
   "source": []
  },
  {
   "cell_type": "code",
   "execution_count": null,
   "metadata": {},
   "outputs": [],
   "source": []
  },
  {
   "cell_type": "code",
   "execution_count": null,
   "metadata": {},
   "outputs": [],
   "source": []
  },
  {
   "cell_type": "code",
   "execution_count": null,
   "metadata": {},
   "outputs": [],
   "source": []
  },
  {
   "cell_type": "code",
   "execution_count": null,
   "metadata": {},
   "outputs": [],
   "source": []
  },
  {
   "cell_type": "code",
   "execution_count": null,
   "metadata": {},
   "outputs": [],
   "source": []
  },
  {
   "cell_type": "code",
   "execution_count": null,
   "metadata": {},
   "outputs": [],
   "source": []
  },
  {
   "cell_type": "markdown",
   "metadata": {},
   "source": [
    "### Check errrors"
   ]
  },
  {
   "cell_type": "code",
   "execution_count": null,
   "metadata": {},
   "outputs": [],
   "source": [
    "# df1[df1.floor_b.str.contains(NaN)]\n",
    "\n",
    "df1[df1['dist_tnl_1'].isnull()]"
   ]
  },
  {
   "cell_type": "code",
   "execution_count": null,
   "metadata": {},
   "outputs": [],
   "source": []
  },
  {
   "cell_type": "code",
   "execution_count": null,
   "metadata": {},
   "outputs": [],
   "source": []
  },
  {
   "cell_type": "code",
   "execution_count": null,
   "metadata": {},
   "outputs": [],
   "source": []
  },
  {
   "cell_type": "code",
   "execution_count": null,
   "metadata": {},
   "outputs": [],
   "source": []
  },
  {
   "cell_type": "markdown",
   "metadata": {},
   "source": [
    "### Codice per prova"
   ]
  },
  {
   "cell_type": "code",
   "execution_count": null,
   "metadata": {},
   "outputs": [],
   "source": [
    "pdf_file = [s for s in filespath if \"LD-45-B003\" in s][0]\n",
    "\n",
    "df = tabula.read_pdf(pdf_file, pages=[1,3])\n",
    "\n",
    "bra_ls = ['ERR','ERR','ERR','ERR','ERR','ERR','ERR','ERR','ERR','ERR','ERR','ERR','ERR','ERR','ERR']\n",
    "\n",
    "for i in np.arange(0,len(df),1):\n",
    "\n",
    "    for e in df[i].columns:\n",
    "\n",
    "        if all (x in e for x in ['Building','Code']): \n",
    "\n",
    "            #print(\"Found: '{}'\".format(e),' at dataframe: df[{}] and col_loc:{}'.format(i,df[i].columns.get_loc(e)))\n",
    "\n",
    "            nome,row,col = findpattern(df[i],r'.*-.*-')\n",
    "\n",
    "            bra_ls[0] = df[i].iloc[row,col]   # build_code\n",
    "            bra_ls[1] = df[i].iloc[row,col+1]  # municip\n",
    "            bra_ls[2] = df[i].iloc[row,col+2]  # street\n",
    "            bra_ls[3] = df[i].iloc[row,col+3]  # st_num             \n",
    "        \n",
    "        \n",
    "        \n",
    "        \n",
    "        if any (x in e for x in ['Distance to tunnel.1','Distance to Axis 1','Distance to far']):\n",
    "\n",
    "            #print(\"Found: '{}'\".format(e),' at dataframe: df[{}] and col_loc:{}'.format(i,df[i].columns.get_loc(e)))\n",
    "            \n",
    "                           \n",
    "            for ii in reversed(range(0,df[i].shape[1])): \n",
    "\n",
    "                if (str(df[i].iloc[-1,ii]).isalpha()==False) or (str(df[i].iloc[-1,ii])=='On'): \n",
    "                    \n",
    "                    bra_ls[4] = df[i].iloc[-1,ii]               # Distance tunnel.1\n",
    "                    bra_ls[5] = df[i].iloc[-1,ii-1]             # Distance tunnel\n",
    "                    bra_ls[6] = df[i].iloc[-1,ii-2]             # Position\n",
    "                    bra_ls[7] = df[i].iloc[-1,ii-3]             # Chainage\n",
    "                    break\n",
    "                   \n",
    "                    \n",
    "\n",
    "        if any (x in e for x in ['of floors below','No of floors below','Building length']):\n",
    "\n",
    "            #print(\"Found: '{}'\".format(e),' at dataframe: df[{}] and col_loc:{}'.format(i,df[i].columns.get_loc(e)))\n",
    "\n",
    "            for ii in reversed(range(0,df[i].shape[1])): \n",
    "\n",
    "                if (str(df[i].iloc[-1,ii]).isalpha()==False) or (str(df[i].iloc[-1,ii])=='N/A'): \n",
    "                    \n",
    "                    bra_ls[8] = df[i].iloc[-1,ii]               # No. of floors below\n",
    "                    bra_ls[9] = df[i].iloc[-1,ii-1]             # No. of floors above\n",
    "                    bra_ls[10] = df[i].iloc[-1,ii-2]             # width\n",
    "                    bra_ls[11] = df[i].iloc[-1,ii-3]             # Lenght\n",
    "                    break\n",
    "\n",
    "\n",
    "        if 'Constructive element' in e:\n",
    "\n",
    "            #print(\"Found: '{}'\".format(e),' at dataframe: df[{}] and col_loc:{}'.format(i,df[i].columns.get_loc(e)))\n",
    "\n",
    "            for ii in reversed(range(0,df[i].shape[1])): \n",
    "\n",
    "                if 'aterial' in str(df[i].iloc[-2,ii]): \n",
    "                    \n",
    "                    bra_ls[12] = df[i].iloc[-1,ii]              # Constructive elements\n",
    "                    bra_ls[13] = df[i].iloc[-1,ii-1]             # Building foundations\n",
    "                    break                     \n",
    "\n",
    "\n",
    "## Find the category\n",
    "\n",
    "\n",
    "\n",
    "\n",
    "object = PyPDF2.PdfFileReader(pdf_file)        \n",
    "NumPages = object.getNumPages()\n",
    "\n",
    "for i in range(0, NumPages):\n",
    "    PageObj = object.getPage(i)\n",
    "    Text = PageObj.extractText() \n",
    "\n",
    "\n",
    "    try:\n",
    "        posit = re.search(r\"Category:\", Text).start()\n",
    "\n",
    "        print ('La posizione alla pagina {} {}'.format(i,posit))\n",
    "\n",
    "        if 'edium' in Text[posit:posit+25]: \n",
    "            bra_ls[14] = 'Medium'\n",
    "        elif 'ood' in Text[posit:posit+25]: \n",
    "            bra_ls[14] = 'Good'\n",
    "        elif 'ritical' in Text[posit:posit+25]: \n",
    "            bra_ls[14] = 'Critical'\n",
    "        elif 'Med' in Text[posit:posit+25]: \n",
    "            bra_ls[14] = 'Medium'\n",
    "        elif 'Goo' in Text[posit:posit+25]: \n",
    "            bra_ls[14] = 'Good'\n",
    "        elif 'Crit' in Text[posit:posit+25]: \n",
    "            bra_ls[14] = 'ritical'\n",
    "        elif 'ood' in Text[posit:posit+25]: \n",
    "            bra_ls[14] = 'Good'\n",
    "        elif 'CRIT' in Text[posit:posit+25]: \n",
    "            bra_ls[14] = 'Critical'\n",
    "        elif 'MED' in Text[posit:posit+25]: \n",
    "            bra_ls[14] = 'Medium'   \n",
    "        elif 'OOD' in Text[posit:posit+25]: \n",
    "            bra_ls[14] = 'Good'        \n",
    "        else:\n",
    "            bra_ls[14] = 'ERR2'\n",
    "    except:\n",
    "        pass\n",
    "\n",
    "print (bra_ls)\n",
    "\n"
   ]
  },
  {
   "cell_type": "code",
   "execution_count": null,
   "metadata": {},
   "outputs": [],
   "source": []
  },
  {
   "cell_type": "code",
   "execution_count": null,
   "metadata": {},
   "outputs": [],
   "source": [
    "['build_code','municip','street','st_num','dist_tnl_1','dist_tnl','posit','chain','floor_b','floor_a','width','lenght','constr_elem','build_info','Category']"
   ]
  },
  {
   "cell_type": "code",
   "execution_count": null,
   "metadata": {},
   "outputs": [],
   "source": [
    "Text"
   ]
  },
  {
   "cell_type": "code",
   "execution_count": null,
   "metadata": {},
   "outputs": [],
   "source": [
    "bra_ls"
   ]
  },
  {
   "cell_type": "code",
   "execution_count": null,
   "metadata": {},
   "outputs": [],
   "source": [
    "Text[posit:posit+25]"
   ]
  },
  {
   "cell_type": "code",
   "execution_count": null,
   "metadata": {},
   "outputs": [],
   "source": [
    "df[3]"
   ]
  },
  {
   "cell_type": "code",
   "execution_count": null,
   "metadata": {},
   "outputs": [],
   "source": [
    "df[4].shape[1]"
   ]
  },
  {
   "cell_type": "code",
   "execution_count": null,
   "metadata": {},
   "outputs": [],
   "source": [
    "for ii in reversed(range(0,df[4].shape[1])):   \n",
    "    if str(df[4].iloc[-1,ii]).isalpha()==False:\n",
    "        print(df[4].iloc[-1,ii])\n",
    "        print(ii)\n",
    "        break"
   ]
  },
  {
   "cell_type": "code",
   "execution_count": null,
   "metadata": {},
   "outputs": [],
   "source": [
    "str('5').isnumeric()"
   ]
  },
  {
   "cell_type": "code",
   "execution_count": null,
   "metadata": {},
   "outputs": [],
   "source": [
    "str(df[4].iloc[-1,6]).isalpha()"
   ]
  },
  {
   "cell_type": "code",
   "execution_count": null,
   "metadata": {},
   "outputs": [],
   "source": [
    "str(df[4].iloc[-1,4])"
   ]
  },
  {
   "cell_type": "code",
   "execution_count": null,
   "metadata": {},
   "outputs": [],
   "source": [
    "float('n/a')"
   ]
  },
  {
   "cell_type": "code",
   "execution_count": null,
   "metadata": {},
   "outputs": [],
   "source": [
    "df[4]"
   ]
  },
  {
   "cell_type": "code",
   "execution_count": null,
   "metadata": {},
   "outputs": [],
   "source": [
    "pdf_file = \"C:\\\\Users\\\\fpe\\\\JUPYTER\\\\datimacchina\\\\Reports\\\\HL\\\\Station 21\\\\HL-21-B001.pdf\"\n",
    "\n",
    "\n",
    "object = PyPDF2.PdfFileReader(pdf_file)        \n",
    "NumPages = object.getNumPages()\n",
    "\n",
    "for i in range(0, NumPages):\n",
    "    \n",
    "    PageObj = object.getPage(i)\n",
    "    Text = PageObj.extractText() \n",
    "\n",
    "    try:\n",
    "        posit = re.search(r\"Category:\", Text).start()\n",
    "\n",
    "        print ('La posizione alla pagina {} {}'.format(i,posit))\n",
    "\n",
    "        if 'edium' in Text[posit:posit+25]: bra_ls.append('Medium')\n",
    "        if 'ood' in Text[posit:posit+25]: bra_ls.append('Good')\n",
    "        if 'ritical' in Text[posit:posit+25]: bra_ls.append('Critical')\n",
    "        if 'Med' in Text[posit:posit+25]: bra_ls.append('Medium')\n",
    "        if 'Goo' in Text[posit:posit+25]: bra_ls.append('Good')\n",
    "        if 'Crit' in Text[posit:posit+25]: bra_ls.append('Critical')\n",
    "            \n",
    "    except:\n",
    "        \n",
    "        pass\n"
   ]
  },
  {
   "cell_type": "code",
   "execution_count": null,
   "metadata": {},
   "outputs": [],
   "source": [
    "bra_ls[50] = 'Azz'\n",
    "bra_ls"
   ]
  }
 ],
 "metadata": {
  "kernelspec": {
   "display_name": "Python 3",
   "language": "python",
   "name": "python3"
  },
  "language_info": {
   "codemirror_mode": {
    "name": "ipython",
    "version": 3
   },
   "file_extension": ".py",
   "mimetype": "text/x-python",
   "name": "python",
   "nbconvert_exporter": "python",
   "pygments_lexer": "ipython3",
   "version": "3.6.9"
  }
 },
 "nbformat": 4,
 "nbformat_minor": 2
}
