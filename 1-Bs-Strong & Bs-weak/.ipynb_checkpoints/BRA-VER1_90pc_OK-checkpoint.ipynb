{
 "cells": [
  {
   "cell_type": "code",
   "execution_count": 1,
   "metadata": {},
   "outputs": [
    {
     "name": "stdout",
     "output_type": "stream",
     "text": [
      "C:\\ProgramData\\Anaconda3_1\\envs\\datimacchinaenv\\python.exe\n"
     ]
    }
   ],
   "source": [
    "#newenv1\n",
    "#!/usr/bin/env conda run -n newenv1 python\n",
    "import sys\n",
    "print(sys.executable)    ### Shoul be this C:\\ProgramData\\Anaconda3_1\\envs\\newenv1\\python.exe"
   ]
  },
  {
   "cell_type": "code",
   "execution_count": 2,
   "metadata": {},
   "outputs": [
    {
     "data": {
      "text/html": [
       "<style>.container { width:80% !important; }</style>"
      ],
      "text/plain": [
       "<IPython.core.display.HTML object>"
      ]
     },
     "metadata": {},
     "output_type": "display_data"
    }
   ],
   "source": [
    "from IPython.core.display import display, HTML\n",
    "display(HTML(\"<style>.container { width:80% !important; }</style>\"))"
   ]
  },
  {
   "cell_type": "code",
   "execution_count": 3,
   "metadata": {},
   "outputs": [],
   "source": [
    "# !{sys.executable} -m pip install tabula <- do not use\n",
    "# !{sys.executable} -m pip install tabula-py  <- ok\n",
    "# !{sys.executable} -m pip install PyPDF2\n",
    "# !{sys.executable} -m pip install tabula-py"
   ]
  },
  {
   "cell_type": "code",
   "execution_count": 5,
   "metadata": {},
   "outputs": [
    {
     "ename": "ModuleNotFoundError",
     "evalue": "No module named 'PyPDF2'",
     "output_type": "error",
     "traceback": [
      "\u001b[1;31m---------------------------------------------------------------------------\u001b[0m",
      "\u001b[1;31mModuleNotFoundError\u001b[0m                       Traceback (most recent call last)",
      "\u001b[1;32m<ipython-input-5-8d4fc810631b>\u001b[0m in \u001b[0;36m<module>\u001b[1;34m\u001b[0m\n\u001b[0;32m      2\u001b[0m \u001b[1;31m# import tabula\u001b[0m\u001b[1;33m\u001b[0m\u001b[1;33m\u001b[0m\u001b[1;33m\u001b[0m\u001b[0m\n\u001b[0;32m      3\u001b[0m \u001b[1;32mimport\u001b[0m \u001b[0mpandas\u001b[0m \u001b[1;32mas\u001b[0m \u001b[0mpd\u001b[0m\u001b[1;33m\u001b[0m\u001b[1;33m\u001b[0m\u001b[0m\n\u001b[1;32m----> 4\u001b[1;33m \u001b[1;32mimport\u001b[0m \u001b[0mPyPDF2\u001b[0m\u001b[1;33m\u001b[0m\u001b[1;33m\u001b[0m\u001b[0m\n\u001b[0m\u001b[0;32m      5\u001b[0m \u001b[1;32mimport\u001b[0m \u001b[0mre\u001b[0m\u001b[1;33m\u001b[0m\u001b[1;33m\u001b[0m\u001b[0m\n\u001b[0;32m      6\u001b[0m \u001b[1;32mimport\u001b[0m \u001b[0mos\u001b[0m\u001b[1;33m\u001b[0m\u001b[1;33m\u001b[0m\u001b[0m\n",
      "\u001b[1;31mModuleNotFoundError\u001b[0m: No module named 'PyPDF2'"
     ]
    }
   ],
   "source": [
    "import numpy as np\n",
    "# import tabula\n",
    "import pandas as pd\n",
    "import PyPDF2\n",
    "import re\n",
    "import os\n",
    "import warnings\n",
    "warnings.filterwarnings('ignore')\n",
    "warnings.filterwarnings(action='once')"
   ]
  },
  {
   "cell_type": "code",
   "execution_count": 6,
   "metadata": {},
   "outputs": [
    {
     "data": {
      "text/plain": [
       "['BY-TBM-B008.pdf', 'BY-TBM-B012.pdf', 'BY-TBM-B013.pdf', 'BY-TBM-B014.pdf']"
      ]
     },
     "execution_count": 6,
     "metadata": {},
     "output_type": "execute_result"
    }
   ],
   "source": [
    "path = os.getcwd()+'\\\\Reports'\n",
    "\n",
    "files = []\n",
    "filespath = []\n",
    "# r=root, d=directories, f = files\n",
    "for r, d, f in os.walk(path):\n",
    "    for file in f:\n",
    "        if '.pdf' in file:\n",
    "            files.append(file)\n",
    "            filespath.append(os.path.join(r, file))\n",
    "            \n",
    "# since there is only one file I need only the file name\n",
    "os.path.join(r, files[0])\n",
    "files[:4]\n",
    "\n",
    "\n",
    "\n"
   ]
  },
  {
   "cell_type": "code",
   "execution_count": 7,
   "metadata": {},
   "outputs": [],
   "source": [
    "# funzione per il regex automatico\n",
    "\n",
    "def findpattern(df,pattern):\n",
    "    r = re.compile(pattern)\n",
    "    for i in np.arange(0,df.shape[0],1):\n",
    "        for e in np.arange(0,df.shape[1],1):\n",
    "            if r.match(str(str(df.iloc[i,e]))): \n",
    "                return df.iloc[i,e],i,e"
   ]
  },
  {
   "cell_type": "code",
   "execution_count": 28,
   "metadata": {},
   "outputs": [
    {
     "name": "stderr",
     "output_type": "stream",
     "text": [
      "Got stderr: feb 04, 2020 12:28:51 PM org.apache.pdfbox.pdmodel.font.PDCIDFontType2 <init>\r\n",
      "INFORMAZIONI: OpenType Layout tables used in font Arial are not implemented in PDFBox and will be ignored\r\n",
      "feb 04, 2020 12:28:51 PM org.apache.pdfbox.pdmodel.font.PDCIDFontType2 <init>\r\n",
      "INFORMAZIONI: OpenType Layout tables used in font Arial are not implemented in PDFBox and will be ignored\r\n",
      "feb 04, 2020 12:28:51 PM org.apache.pdfbox.pdmodel.font.PDCIDFontType2 <init>\r\n",
      "INFORMAZIONI: OpenType Layout tables used in font Arial are not implemented in PDFBox and will be ignored\r\n",
      "\n"
     ]
    }
   ],
   "source": [
    "df = tabula.read_pdf('C:/Users/fpe/JUPYTER/datimacchina/Reports/HL/Station 23/HL-23-B001E.pdf', pages=[1,3])"
   ]
  },
  {
   "cell_type": "code",
   "execution_count": 1,
   "metadata": {},
   "outputs": [],
   "source": [
    "def new_df_row(pdf_file):\n",
    "    \n",
    "    file=files[filespath.index(pdf_file)]\n",
    "    print(pdf_file)\n",
    "    \n",
    "    list_err = []\n",
    "    \n",
    "    try:\n",
    "    \n",
    "        df = tabula.read_pdf(pdf_file, pages=[1,3])\n",
    "\n",
    "        bra_ls = ['ERR','ERR','ERR','ERR','ERR','ERR','ERR','ERR','ERR','ERR','ERR','ERR','ERR','ERR','ERR', file]\n",
    "\n",
    "        for i in np.arange(0,len(df),1):\n",
    "\n",
    "            for e in df[i].columns:\n",
    "\n",
    "                if all (x in e for x in ['Building','Code']): \n",
    "\n",
    "                    #print(\"Found: '{}'\".format(e),' at dataframe: df[{}] and col_loc:{}'.format(i,df[i].columns.get_loc(e)))\n",
    "\n",
    "                    nome,row,col = findpattern(df[i],r'.*-.*-')\n",
    "\n",
    "                    bra_ls[0] = df[i].iloc[row,col]   # build_code\n",
    "                    bra_ls[1] = df[i].iloc[row,col+1]  # municip\n",
    "                    bra_ls[2] = df[i].iloc[row,col+2]  # street\n",
    "                    bra_ls[3] = df[i].iloc[row,col+3]  # st_num\n",
    "\n",
    "                if 'Distance to tunnel.1' in e:\n",
    "\n",
    "                    #print(\"Found: '{}'\".format(e),' at dataframe: df[{}] and col_loc:{}'.format(i,df[i].columns.get_loc(e)))\n",
    "\n",
    "                    bra_ls[4] = df[i].iloc[-1,df[i].columns.get_loc(e)]         # Distance tunnel.1\n",
    "                    bra_ls[5] = df[i].iloc[-1,df[i].columns.get_loc(e)-1]       # Distance tunnel\n",
    "                    bra_ls[6] = df[i].iloc[-1,df[i].columns.get_loc(e)-2]       # Position\n",
    "                    bra_ls[7] = df[i].iloc[-1,df[i].columns.get_loc(e)-3]       # Chainage\n",
    "\n",
    "                if 'Distance to far' in e:\n",
    "\n",
    "                    #print(\"Found: '{}'\".format(e),' at dataframe: df[{}] and col_loc:{}'.format(i,df[i].columns.get_loc(e)))\n",
    "\n",
    "                    bra_ls[4] = df[i].iloc[-1,df[i].columns.get_loc(e)]         # Distance tunnel.1\n",
    "                    bra_ls[5] = df[i].iloc[-1,df[i].columns.get_loc(e)-1]       # Distance tunnel\n",
    "                    bra_ls[6] = df[i].iloc[-1,df[i].columns.get_loc(e)-2]       # Position\n",
    "                    bra_ls[7] = df[i].iloc[-1,df[i].columns.get_loc(e)-3]       # Chainage\n",
    "                    \n",
    "                    \n",
    "                if 'Distance to Axis 1' in e:    \n",
    "\n",
    "                    #print(\"Found: '{}'\".format(e),' at dataframe: df[{}] and col_loc:{}'.format(i,df[i].columns.get_loc(e)))\n",
    "\n",
    "\n",
    "                    for ii in reversed(range(0,df[i].shape[1])): \n",
    "\n",
    "                        if (str(df[i].iloc[-1,ii]).isalpha()==False) or (str(df[i].iloc[-1,ii])=='On'): \n",
    "\n",
    "                            bra_ls[4] = df[i].iloc[-1,ii]               # Distance tunnel.1\n",
    "                            bra_ls[5] = df[i].iloc[-1,ii-1]             # Distance tunnel\n",
    "                            bra_ls[6] = df[i].iloc[-1,ii-2]             # Position\n",
    "                            bra_ls[7] = df[i].iloc[-1,ii-3]             # Chainage\n",
    "                            break                    \n",
    "                    \n",
    "\n",
    "                if any (x in e for x in ['of floors below','No of floors below','Building length']):\n",
    "\n",
    "                    #print(\"Found: '{}'\".format(e),' at dataframe: df[{}] and col_loc:{}'.format(i,df[i].columns.get_loc(e)))\n",
    "\n",
    "                    for ii in reversed(range(0,df[i].shape[1])): \n",
    "\n",
    "                        if (str(df[i].iloc[-1,ii]).isalpha()==False) or (str(df[i].iloc[-1,ii])=='N/A'): \n",
    "\n",
    "                            bra_ls[8] = df[i].iloc[-1,ii]               # No. of floors below\n",
    "                            bra_ls[9] = df[i].iloc[-1,ii-1]             # No. of floors above\n",
    "                            bra_ls[10] = df[i].iloc[-1,ii-2]             # width\n",
    "                            bra_ls[11] = df[i].iloc[-1,ii-3]             # Lenght\n",
    "                            break\n",
    "                    \n",
    "\n",
    "                if 'Constructive elements' in e:\n",
    "\n",
    "                    #print(\"Found: '{}'\".format(e),' at dataframe: df[{}] and col_loc:{}'.format(i,df[i].columns.get_loc(e)))\n",
    "\n",
    "\n",
    "                    bra_ls[12] = df[i].iloc[-1,df[i].columns.get_loc(e)]         # Constructive elements\n",
    "                    bra_ls[13] = df[i].iloc[-1,df[i].columns.get_loc(e)-1]       # Building foundations          \n",
    "\n",
    "\n",
    "        ## Find the category\n",
    "\n",
    "        object = PyPDF2.PdfFileReader(pdf_file)        \n",
    "        NumPages = object.getNumPages()\n",
    "\n",
    "        for i in range(0, NumPages):\n",
    "            PageObj = object.getPage(i)\n",
    "            Text = PageObj.extractText() \n",
    "\n",
    "\n",
    "            try:\n",
    "                posit = re.search(r\"Category:\", Text).start()\n",
    "\n",
    "                print ('La posizione alla pagina {} {}'.format(i,posit))\n",
    "\n",
    "                if 'edium' in Text[posit:posit+25]: \n",
    "                    bra_ls[14] = 'Medium'\n",
    "                elif 'ood' in Text[posit:posit+25]: \n",
    "                    bra_ls[14] = 'Good'\n",
    "                elif 'ritical' in Text[posit:posit+25]: \n",
    "                    bra_ls[14] = 'Critical'\n",
    "                elif 'Med' in Text[posit:posit+25]: \n",
    "                    bra_ls[14] = 'Medium'\n",
    "                elif 'Goo' in Text[posit:posit+25]: \n",
    "                    bra_ls[14] = 'Good'\n",
    "                elif 'Crit' in Text[posit:posit+25]: \n",
    "                    bra_ls[14] = 'Critical'\n",
    "                else:\n",
    "                    bra_ls[14] = 'Na'\n",
    "            except:\n",
    "                pass\n",
    "\n",
    "        print (bra_ls)\n",
    "        print('\\n\\n')\n",
    "        \n",
    "        \n",
    "        if 'ERR' in bra_ls: list_err.append(pdf_file)\n",
    "        \n",
    "        return bra_ls,list_err\n",
    "    \n",
    "    except:\n",
    "        \n",
    "        print('An error has occurred')\n",
    "        \n",
    "        bra_ls = ['ERR','ERR','ERR','ERR','ERR','ERR','ERR','ERR','ERR','ERR','ERR','ERR','ERR','ERR','ERR', file]\n",
    "        \n",
    "        \n",
    "        print (bra_ls)\n",
    "        print('\\n\\n')\n",
    "        \n",
    "        list_err.append(pdf_file)\n",
    "        \n",
    "        return bra_ls,list_err\n",
    "\n",
    "    \n",
    "    "
   ]
  },
  {
   "cell_type": "code",
   "execution_count": 2,
   "metadata": {},
   "outputs": [
    {
     "ename": "NameError",
     "evalue": "name 'pd' is not defined",
     "output_type": "error",
     "traceback": [
      "\u001b[1;31m---------------------------------------------------------------------------\u001b[0m",
      "\u001b[1;31mNameError\u001b[0m                                 Traceback (most recent call last)",
      "\u001b[1;32m<ipython-input-2-cf6602a662be>\u001b[0m in \u001b[0;36m<module>\u001b[1;34m\u001b[0m\n\u001b[1;32m----> 1\u001b[1;33m df1 = pd.DataFrame(columns=['build_code','municip','street','st_num','dist_tnl_1','dist_tnl','posit','chain',\n\u001b[0m\u001b[0;32m      2\u001b[0m                             \u001b[1;34m'floor_b'\u001b[0m\u001b[1;33m,\u001b[0m\u001b[1;34m'floor_a'\u001b[0m\u001b[1;33m,\u001b[0m\u001b[1;34m'width'\u001b[0m\u001b[1;33m,\u001b[0m\u001b[1;34m'lenght'\u001b[0m\u001b[1;33m\u001b[0m\u001b[1;33m\u001b[0m\u001b[0m\n\u001b[0;32m      3\u001b[0m                             ,'constr_elem','build_info','Category','pdfname'])\n\u001b[0;32m      4\u001b[0m \u001b[1;33m\u001b[0m\u001b[0m\n\u001b[0;32m      5\u001b[0m \u001b[1;33m\u001b[0m\u001b[0m\n",
      "\u001b[1;31mNameError\u001b[0m: name 'pd' is not defined"
     ]
    }
   ],
   "source": [
    "df1 = pd.DataFrame(columns=['build_code','municip','street','st_num','dist_tnl_1','dist_tnl','posit','chain',\n",
    "                            'floor_b','floor_a','width','lenght'\n",
    "                            ,'constr_elem','build_info','Category','pdfname'])\n",
    "\n",
    "\n",
    "for file_path_ in filespath[50:52]:\n",
    "\n",
    "    row_ls = new_df_row(file_path_)[0]\n",
    "    \n",
    "    df1.loc[len(df1)]=row_ls\n",
    "    \n",
    "    \n",
    "df1    "
   ]
  },
  {
   "cell_type": "code",
   "execution_count": 170,
   "metadata": {},
   "outputs": [],
   "source": [
    "df1.to_excel('db_all.xls')"
   ]
  },
  {
   "cell_type": "code",
   "execution_count": null,
   "metadata": {},
   "outputs": [],
   "source": []
  },
  {
   "cell_type": "code",
   "execution_count": null,
   "metadata": {},
   "outputs": [],
   "source": []
  },
  {
   "cell_type": "code",
   "execution_count": null,
   "metadata": {},
   "outputs": [],
   "source": []
  },
  {
   "cell_type": "code",
   "execution_count": null,
   "metadata": {},
   "outputs": [],
   "source": []
  },
  {
   "cell_type": "code",
   "execution_count": null,
   "metadata": {},
   "outputs": [],
   "source": []
  },
  {
   "cell_type": "code",
   "execution_count": null,
   "metadata": {},
   "outputs": [],
   "source": []
  },
  {
   "cell_type": "code",
   "execution_count": null,
   "metadata": {},
   "outputs": [],
   "source": []
  },
  {
   "cell_type": "code",
   "execution_count": null,
   "metadata": {},
   "outputs": [],
   "source": []
  },
  {
   "cell_type": "code",
   "execution_count": null,
   "metadata": {},
   "outputs": [],
   "source": []
  },
  {
   "cell_type": "markdown",
   "metadata": {},
   "source": [
    "### Check errrors"
   ]
  },
  {
   "cell_type": "code",
   "execution_count": 171,
   "metadata": {},
   "outputs": [
    {
     "data": {
      "text/html": [
       "<div>\n",
       "<style scoped>\n",
       "    .dataframe tbody tr th:only-of-type {\n",
       "        vertical-align: middle;\n",
       "    }\n",
       "\n",
       "    .dataframe tbody tr th {\n",
       "        vertical-align: top;\n",
       "    }\n",
       "\n",
       "    .dataframe thead th {\n",
       "        text-align: right;\n",
       "    }\n",
       "</style>\n",
       "<table border=\"1\" class=\"dataframe\">\n",
       "  <thead>\n",
       "    <tr style=\"text-align: right;\">\n",
       "      <th></th>\n",
       "      <th>build_code</th>\n",
       "      <th>municip</th>\n",
       "      <th>street</th>\n",
       "      <th>st_num</th>\n",
       "      <th>dist_tnl_1</th>\n",
       "      <th>dist_tnl</th>\n",
       "      <th>posit</th>\n",
       "      <th>chain</th>\n",
       "      <th>floor_b</th>\n",
       "      <th>floor_a</th>\n",
       "      <th>width</th>\n",
       "      <th>lenght</th>\n",
       "      <th>constr_elem</th>\n",
       "      <th>build_info</th>\n",
       "      <th>Category</th>\n",
       "    </tr>\n",
       "  </thead>\n",
       "  <tbody>\n",
       "    <tr>\n",
       "      <td>239</td>\n",
       "      <td>LD-45-B003</td>\n",
       "      <td>Lod</td>\n",
       "      <td>Efraim Luzon</td>\n",
       "      <td>3</td>\n",
       "      <td>NaN</td>\n",
       "      <td>NaN</td>\n",
       "      <td>South east</td>\n",
       "      <td>45</td>\n",
       "      <td>0</td>\n",
       "      <td>2</td>\n",
       "      <td>48.5</td>\n",
       "      <td>22.5</td>\n",
       "      <td>Reinforced concrete</td>\n",
       "      <td>N/A</td>\n",
       "      <td>Medium</td>\n",
       "    </tr>\n",
       "    <tr>\n",
       "      <td>240</td>\n",
       "      <td>LD-45-B004</td>\n",
       "      <td>Lod</td>\n",
       "      <td>Efraim Luzon</td>\n",
       "      <td>5</td>\n",
       "      <td>NaN</td>\n",
       "      <td>NaN</td>\n",
       "      <td>South east</td>\n",
       "      <td>45</td>\n",
       "      <td>0</td>\n",
       "      <td>2</td>\n",
       "      <td>48</td>\n",
       "      <td>22</td>\n",
       "      <td>Reinforced concrete</td>\n",
       "      <td>N/A</td>\n",
       "      <td>Critical</td>\n",
       "    </tr>\n",
       "    <tr>\n",
       "      <td>242</td>\n",
       "      <td>LD-45-B006</td>\n",
       "      <td>Lod</td>\n",
       "      <td>Efraim Luzon</td>\n",
       "      <td>9</td>\n",
       "      <td>NaN</td>\n",
       "      <td>NaN</td>\n",
       "      <td>South east</td>\n",
       "      <td>45</td>\n",
       "      <td>0</td>\n",
       "      <td>3</td>\n",
       "      <td>54.5</td>\n",
       "      <td>30.5</td>\n",
       "      <td>Reinforced concrete</td>\n",
       "      <td>N/A</td>\n",
       "      <td>Medium</td>\n",
       "    </tr>\n",
       "  </tbody>\n",
       "</table>\n",
       "</div>"
      ],
      "text/plain": [
       "     build_code municip        street st_num dist_tnl_1 dist_tnl       posit  \\\n",
       "239  LD-45-B003     Lod  Efraim Luzon      3        NaN      NaN  South east   \n",
       "240  LD-45-B004     Lod  Efraim Luzon      5        NaN      NaN  South east   \n",
       "242  LD-45-B006     Lod  Efraim Luzon      9        NaN      NaN  South east   \n",
       "\n",
       "    chain floor_b floor_a width lenght          constr_elem build_info  \\\n",
       "239    45       0       2  48.5   22.5  Reinforced concrete        N/A   \n",
       "240    45       0       2    48     22  Reinforced concrete        N/A   \n",
       "242    45       0       3  54.5   30.5  Reinforced concrete        N/A   \n",
       "\n",
       "     Category  \n",
       "239    Medium  \n",
       "240  Critical  \n",
       "242    Medium  "
      ]
     },
     "execution_count": 171,
     "metadata": {},
     "output_type": "execute_result"
    }
   ],
   "source": [
    "# df1[df1.floor_b.str.contains(NaN)]\n",
    "\n",
    "df1[df1['dist_tnl_1'].isnull()]"
   ]
  },
  {
   "cell_type": "code",
   "execution_count": 77,
   "metadata": {},
   "outputs": [],
   "source": []
  },
  {
   "cell_type": "code",
   "execution_count": null,
   "metadata": {},
   "outputs": [],
   "source": []
  },
  {
   "cell_type": "code",
   "execution_count": null,
   "metadata": {},
   "outputs": [],
   "source": []
  },
  {
   "cell_type": "code",
   "execution_count": null,
   "metadata": {},
   "outputs": [],
   "source": []
  },
  {
   "cell_type": "markdown",
   "metadata": {},
   "source": [
    "### Codice per prova"
   ]
  },
  {
   "cell_type": "code",
   "execution_count": 162,
   "metadata": {},
   "outputs": [
    {
     "name": "stderr",
     "output_type": "stream",
     "text": [
      "Got stderr: feb 05, 2020 10:53:39 AM org.apache.pdfbox.pdmodel.font.PDCIDFontType2 <init>\r\n",
      "INFORMAZIONI: OpenType Layout tables used in font Arial are not implemented in PDFBox and will be ignored\r\n",
      "feb 05, 2020 10:53:40 AM org.apache.pdfbox.pdmodel.font.PDCIDFontType2 <init>\r\n",
      "INFORMAZIONI: OpenType Layout tables used in font Arial are not implemented in PDFBox and will be ignored\r\n",
      "feb 05, 2020 10:53:40 AM org.apache.pdfbox.pdmodel.font.PDCIDFontType2 <init>\r\n",
      "INFORMAZIONI: OpenType Layout tables used in font Arial are not implemented in PDFBox and will be ignored\r\n",
      "\n"
     ]
    },
    {
     "name": "stdout",
     "output_type": "stream",
     "text": [
      "La posizione alla pagina 7 299\n",
      "['LD-45-B003', 'Lod', 'Efraim Luzon', 3.0, 'South east', '45', nan, nan, '0', '2', '48.5', '22.5', 'Reinforced concrete', 'N/A', 'Medium']\n"
     ]
    }
   ],
   "source": [
    "pdf_file = [s for s in filespath if \"LD-45-B003\" in s][0]\n",
    "\n",
    "df = tabula.read_pdf(pdf_file, pages=[1,3])\n",
    "\n",
    "bra_ls = ['ERR','ERR','ERR','ERR','ERR','ERR','ERR','ERR','ERR','ERR','ERR','ERR','ERR','ERR','ERR']\n",
    "\n",
    "for i in np.arange(0,len(df),1):\n",
    "\n",
    "    for e in df[i].columns:\n",
    "\n",
    "        if all (x in e for x in ['Building','Code']): \n",
    "\n",
    "            #print(\"Found: '{}'\".format(e),' at dataframe: df[{}] and col_loc:{}'.format(i,df[i].columns.get_loc(e)))\n",
    "\n",
    "            nome,row,col = findpattern(df[i],r'.*-.*-')\n",
    "\n",
    "            bra_ls[0] = df[i].iloc[row,col]   # build_code\n",
    "            bra_ls[1] = df[i].iloc[row,col+1]  # municip\n",
    "            bra_ls[2] = df[i].iloc[row,col+2]  # street\n",
    "            bra_ls[3] = df[i].iloc[row,col+3]  # st_num             \n",
    "        \n",
    "        \n",
    "        \n",
    "        \n",
    "        if any (x in e for x in ['Distance to tunnel.1','Distance to Axis 1','Distance to far']):\n",
    "\n",
    "            #print(\"Found: '{}'\".format(e),' at dataframe: df[{}] and col_loc:{}'.format(i,df[i].columns.get_loc(e)))\n",
    "            \n",
    "                           \n",
    "            for ii in reversed(range(0,df[i].shape[1])): \n",
    "\n",
    "                if (str(df[i].iloc[-1,ii]).isalpha()==False) or (str(df[i].iloc[-1,ii])=='On'): \n",
    "                    \n",
    "                    bra_ls[4] = df[i].iloc[-1,ii]               # Distance tunnel.1\n",
    "                    bra_ls[5] = df[i].iloc[-1,ii-1]             # Distance tunnel\n",
    "                    bra_ls[6] = df[i].iloc[-1,ii-2]             # Position\n",
    "                    bra_ls[7] = df[i].iloc[-1,ii-3]             # Chainage\n",
    "                    break\n",
    "                   \n",
    "                    \n",
    "\n",
    "        if any (x in e for x in ['of floors below','No of floors below','Building length']):\n",
    "\n",
    "            #print(\"Found: '{}'\".format(e),' at dataframe: df[{}] and col_loc:{}'.format(i,df[i].columns.get_loc(e)))\n",
    "\n",
    "            for ii in reversed(range(0,df[i].shape[1])): \n",
    "\n",
    "                if (str(df[i].iloc[-1,ii]).isalpha()==False) or (str(df[i].iloc[-1,ii])=='N/A'): \n",
    "                    \n",
    "                    bra_ls[8] = df[i].iloc[-1,ii]               # No. of floors below\n",
    "                    bra_ls[9] = df[i].iloc[-1,ii-1]             # No. of floors above\n",
    "                    bra_ls[10] = df[i].iloc[-1,ii-2]             # width\n",
    "                    bra_ls[11] = df[i].iloc[-1,ii-3]             # Lenght\n",
    "                    break\n",
    "\n",
    "\n",
    "        if 'Constructive element' in e:\n",
    "\n",
    "            #print(\"Found: '{}'\".format(e),' at dataframe: df[{}] and col_loc:{}'.format(i,df[i].columns.get_loc(e)))\n",
    "\n",
    "            for ii in reversed(range(0,df[i].shape[1])): \n",
    "\n",
    "                if 'aterial' in str(df[i].iloc[-2,ii]): \n",
    "                    \n",
    "                    bra_ls[12] = df[i].iloc[-1,ii]              # Constructive elements\n",
    "                    bra_ls[13] = df[i].iloc[-1,ii-1]             # Building foundations\n",
    "                    break                     \n",
    "\n",
    "\n",
    "## Find the category\n",
    "\n",
    "\n",
    "\n",
    "\n",
    "object = PyPDF2.PdfFileReader(pdf_file)        \n",
    "NumPages = object.getNumPages()\n",
    "\n",
    "for i in range(0, NumPages):\n",
    "    PageObj = object.getPage(i)\n",
    "    Text = PageObj.extractText() \n",
    "\n",
    "\n",
    "    try:\n",
    "        posit = re.search(r\"Category:\", Text).start()\n",
    "\n",
    "        print ('La posizione alla pagina {} {}'.format(i,posit))\n",
    "\n",
    "        if 'edium' in Text[posit:posit+25]: \n",
    "            bra_ls[14] = 'Medium'\n",
    "        elif 'ood' in Text[posit:posit+25]: \n",
    "            bra_ls[14] = 'Good'\n",
    "        elif 'ritical' in Text[posit:posit+25]: \n",
    "            bra_ls[14] = 'Critical'\n",
    "        elif 'Med' in Text[posit:posit+25]: \n",
    "            bra_ls[14] = 'Medium'\n",
    "        elif 'Goo' in Text[posit:posit+25]: \n",
    "            bra_ls[14] = 'Good'\n",
    "        elif 'Crit' in Text[posit:posit+25]: \n",
    "            bra_ls[14] = 'ritical'\n",
    "        elif 'ood' in Text[posit:posit+25]: \n",
    "            bra_ls[14] = 'Good'\n",
    "        elif 'CRIT' in Text[posit:posit+25]: \n",
    "            bra_ls[14] = 'Critical'\n",
    "        elif 'MED' in Text[posit:posit+25]: \n",
    "            bra_ls[14] = 'Medium'   \n",
    "        elif 'OOD' in Text[posit:posit+25]: \n",
    "            bra_ls[14] = 'Good'        \n",
    "        else:\n",
    "            bra_ls[14] = 'ERR2'\n",
    "    except:\n",
    "        pass\n",
    "\n",
    "print (bra_ls)\n",
    "\n"
   ]
  },
  {
   "cell_type": "code",
   "execution_count": 156,
   "metadata": {},
   "outputs": [
    {
     "data": {
      "text/html": [
       "<style>.container { width:80% !important; }</style>"
      ],
      "text/plain": [
       "<IPython.core.display.HTML object>"
      ]
     },
     "metadata": {},
     "output_type": "display_data"
    }
   ],
   "source": []
  },
  {
   "cell_type": "code",
   "execution_count": 142,
   "metadata": {},
   "outputs": [
    {
     "data": {
      "text/plain": [
       "['build_code',\n",
       " 'municip',\n",
       " 'street',\n",
       " 'st_num',\n",
       " 'dist_tnl_1',\n",
       " 'dist_tnl',\n",
       " 'posit',\n",
       " 'chain',\n",
       " 'floor_b',\n",
       " 'floor_a',\n",
       " 'width',\n",
       " 'lenght',\n",
       " 'constr_elem',\n",
       " 'build_info',\n",
       " 'Category']"
      ]
     },
     "execution_count": 142,
     "metadata": {},
     "output_type": "execute_result"
    }
   ],
   "source": [
    "['build_code','municip','street','st_num','dist_tnl_1','dist_tnl','posit','chain','floor_b','floor_a','width','lenght','constr_elem','build_info','Category']"
   ]
  },
  {
   "cell_type": "code",
   "execution_count": 80,
   "metadata": {},
   "outputs": [
    {
     "data": {
      "text/plain": [
       "' \\n \\nAppendix C \\n\\n \\nInitial\\n \\nBCS\\n \\nReport\\n \\n \\n \\n \\nHL\\n-\\nTBM\\n-\\nB102C\\n \\n8\\n \\n/ \\n8\\n \\n \\n3.2\\n \\nConclusions\\n \\nChain of 5 buildings attached to each other. \\nBuilding \\nhas multiple damages: plaster pilling\\n \\nand cracks \\non block walls\\n,\\n \\nspalling\\n, \\nsigns of moisture\\n,\\n \\ndifferential\\n \\nfloor settlements and exposed reinforced \\ncorrosion steel bars on poles and ceilings.\\n \\n \\n \\n4\\n \\nBuilding condition classifications\\n \\nB\\nuilding Category: \\nCRITICAL\\n \\ndefinition\\n \\nCategory\\n \\n-\\n \\nBuildings without any signs of settlements,\\n \\ncollapse or cracks \\ngreater than 0.3 mm.\\n \\nGood\\n \\n-\\n \\nBuildings with cracks not greater than 1 mm in structural elements \\nand 5 mm in nonstructural elements, without settlements or \\ncollapsed element.\\n \\nMedium\\n \\nBuildings with signs of significant \\ndamage such as:\\n \\n-\\n \\nCracks greater than 2 mm in structural elements .and 10 mm in \\nnonstructural elements.\\n \\n-\\n \\nSettlements and/or collapsed elements.\\n \\n-\\n \\nBuildings with signs of significant concrete corrosion and spalling.\\n \\nCritical\\n \\n'"
      ]
     },
     "execution_count": 80,
     "metadata": {},
     "output_type": "execute_result"
    }
   ],
   "source": [
    "Text"
   ]
  },
  {
   "cell_type": "code",
   "execution_count": 89,
   "metadata": {},
   "outputs": [
    {
     "data": {
      "text/plain": [
       "['HL-TBM-B102C',\n",
       " 'Holon',\n",
       " 'Eilat',\n",
       " '70 C',\n",
       " nan,\n",
       " nan,\n",
       " '23.3',\n",
       " '9.8',\n",
       " nan,\n",
       " nan,\n",
       " nan,\n",
       " nan,\n",
       " nan,\n",
       " nan,\n",
       " 'Critical']"
      ]
     },
     "execution_count": 89,
     "metadata": {},
     "output_type": "execute_result"
    }
   ],
   "source": [
    "bra_ls"
   ]
  },
  {
   "cell_type": "code",
   "execution_count": 87,
   "metadata": {},
   "outputs": [
    {
     "data": {
      "text/plain": [
       "'Category: \\nCRITICAL\\n \\ndef'"
      ]
     },
     "execution_count": 87,
     "metadata": {},
     "output_type": "execute_result"
    }
   ],
   "source": [
    "Text[posit:posit+25]"
   ]
  },
  {
   "cell_type": "code",
   "execution_count": 166,
   "metadata": {},
   "outputs": [
    {
     "data": {
      "text/html": [
       "<div>\n",
       "<style scoped>\n",
       "    .dataframe tbody tr th:only-of-type {\n",
       "        vertical-align: middle;\n",
       "    }\n",
       "\n",
       "    .dataframe tbody tr th {\n",
       "        vertical-align: top;\n",
       "    }\n",
       "\n",
       "    .dataframe thead th {\n",
       "        text-align: right;\n",
       "    }\n",
       "</style>\n",
       "<table border=\"1\" class=\"dataframe\">\n",
       "  <thead>\n",
       "    <tr style=\"text-align: right;\">\n",
       "      <th></th>\n",
       "      <th>Unnamed: 0</th>\n",
       "      <th>Position to</th>\n",
       "      <th>Distance to near</th>\n",
       "      <th>Distance to far</th>\n",
       "    </tr>\n",
       "  </thead>\n",
       "  <tbody>\n",
       "    <tr>\n",
       "      <td>0</td>\n",
       "      <td>Station</td>\n",
       "      <td>NaN</td>\n",
       "      <td>NaN</td>\n",
       "      <td>NaN</td>\n",
       "    </tr>\n",
       "    <tr>\n",
       "      <td>1</td>\n",
       "      <td>NaN</td>\n",
       "      <td>tunnel</td>\n",
       "      <td>station wall [m]</td>\n",
       "      <td>station wall [m]</td>\n",
       "    </tr>\n",
       "    <tr>\n",
       "      <td>2</td>\n",
       "      <td>45</td>\n",
       "      <td>South east</td>\n",
       "      <td>NaN</td>\n",
       "      <td>NaN</td>\n",
       "    </tr>\n",
       "  </tbody>\n",
       "</table>\n",
       "</div>"
      ],
      "text/plain": [
       "  Unnamed: 0 Position to  Distance to near   Distance to far\n",
       "0    Station         NaN               NaN               NaN\n",
       "1        NaN      tunnel  station wall [m]  station wall [m]\n",
       "2         45  South east               NaN               NaN"
      ]
     },
     "execution_count": 166,
     "metadata": {},
     "output_type": "execute_result"
    }
   ],
   "source": [
    "df[3]"
   ]
  },
  {
   "cell_type": "code",
   "execution_count": 93,
   "metadata": {},
   "outputs": [
    {
     "data": {
      "text/plain": [
       "11"
      ]
     },
     "execution_count": 93,
     "metadata": {},
     "output_type": "execute_result"
    }
   ],
   "source": [
    "df[4].shape[1]"
   ]
  },
  {
   "cell_type": "code",
   "execution_count": 137,
   "metadata": {},
   "outputs": [
    {
     "name": "stdout",
     "output_type": "stream",
     "text": [
      "23.3\n",
      "4\n"
     ]
    }
   ],
   "source": [
    "for ii in reversed(range(0,df[4].shape[1])):   \n",
    "    if str(df[4].iloc[-1,ii]).isalpha()==False:\n",
    "        print(df[4].iloc[-1,ii])\n",
    "        print(ii)\n",
    "        break"
   ]
  },
  {
   "cell_type": "code",
   "execution_count": 104,
   "metadata": {},
   "outputs": [
    {
     "data": {
      "text/plain": [
       "True"
      ]
     },
     "execution_count": 104,
     "metadata": {},
     "output_type": "execute_result"
    }
   ],
   "source": [
    "str('5').isnumeric()"
   ]
  },
  {
   "cell_type": "code",
   "execution_count": 133,
   "metadata": {},
   "outputs": [
    {
     "data": {
      "text/plain": [
       "True"
      ]
     },
     "execution_count": 133,
     "metadata": {},
     "output_type": "execute_result"
    }
   ],
   "source": [
    "str(df[4].iloc[-1,6]).isalpha()"
   ]
  },
  {
   "cell_type": "code",
   "execution_count": 117,
   "metadata": {},
   "outputs": [
    {
     "data": {
      "text/plain": [
       "'23.3'"
      ]
     },
     "execution_count": 117,
     "metadata": {},
     "output_type": "execute_result"
    }
   ],
   "source": [
    "str(df[4].iloc[-1,4])"
   ]
  },
  {
   "cell_type": "code",
   "execution_count": 126,
   "metadata": {},
   "outputs": [
    {
     "ename": "ValueError",
     "evalue": "could not convert string to float: 'n/a'",
     "output_type": "error",
     "traceback": [
      "\u001b[1;31m---------------------------------------------------------------------------\u001b[0m",
      "\u001b[1;31mValueError\u001b[0m                                Traceback (most recent call last)",
      "\u001b[1;32m<ipython-input-126-da96681e8e4d>\u001b[0m in \u001b[0;36m<module>\u001b[1;34m\u001b[0m\n\u001b[1;32m----> 1\u001b[1;33m \u001b[0mfloat\u001b[0m\u001b[1;33m(\u001b[0m\u001b[1;34m'n/a'\u001b[0m\u001b[1;33m)\u001b[0m\u001b[1;33m\u001b[0m\u001b[1;33m\u001b[0m\u001b[0m\n\u001b[0m",
      "\u001b[1;31mValueError\u001b[0m: could not convert string to float: 'n/a'"
     ]
    }
   ],
   "source": [
    "float('n/a')"
   ]
  },
  {
   "cell_type": "code",
   "execution_count": 71,
   "metadata": {},
   "outputs": [
    {
     "data": {
      "text/html": [
       "<div>\n",
       "<style scoped>\n",
       "    .dataframe tbody tr th:only-of-type {\n",
       "        vertical-align: middle;\n",
       "    }\n",
       "\n",
       "    .dataframe tbody tr th {\n",
       "        vertical-align: top;\n",
       "    }\n",
       "\n",
       "    .dataframe thead th {\n",
       "        text-align: right;\n",
       "    }\n",
       "</style>\n",
       "<table border=\"1\" class=\"dataframe\">\n",
       "  <thead>\n",
       "    <tr style=\"text-align: right;\">\n",
       "      <th></th>\n",
       "      <th>Chainage</th>\n",
       "      <th>Unnamed: 0</th>\n",
       "      <th>Unnamed: 1</th>\n",
       "      <th>Position to</th>\n",
       "      <th>Unnamed: 2</th>\n",
       "      <th>Unnamed: 3</th>\n",
       "      <th>Distance to Axis 1</th>\n",
       "      <th>Unnamed: 4</th>\n",
       "      <th>Unnamed: 5</th>\n",
       "      <th>Distance to Axis 2</th>\n",
       "      <th>Unnamed: 6</th>\n",
       "    </tr>\n",
       "  </thead>\n",
       "  <tbody>\n",
       "    <tr>\n",
       "      <td>0</td>\n",
       "      <td>Chainage</td>\n",
       "      <td>NaN</td>\n",
       "      <td>NaN</td>\n",
       "      <td>NaN</td>\n",
       "      <td>NaN</td>\n",
       "      <td>NaN</td>\n",
       "      <td>NaN</td>\n",
       "      <td>NaN</td>\n",
       "      <td>NaN</td>\n",
       "      <td>NaN</td>\n",
       "      <td>NaN</td>\n",
       "    </tr>\n",
       "    <tr>\n",
       "      <td>1</td>\n",
       "      <td>NaN</td>\n",
       "      <td>NaN</td>\n",
       "      <td>tunnel</td>\n",
       "      <td>[m]</td>\n",
       "      <td>[m]</td>\n",
       "      <td>NaN</td>\n",
       "      <td>NaN</td>\n",
       "      <td>NaN</td>\n",
       "      <td>NaN</td>\n",
       "      <td>NaN</td>\n",
       "      <td>NaN</td>\n",
       "    </tr>\n",
       "    <tr>\n",
       "      <td>2</td>\n",
       "      <td>NaN</td>\n",
       "      <td>NaN</td>\n",
       "      <td>West</td>\n",
       "      <td>9.8</td>\n",
       "      <td>23.3</td>\n",
       "      <td>NaN</td>\n",
       "      <td>NaN</td>\n",
       "      <td>NaN</td>\n",
       "      <td>NaN</td>\n",
       "      <td>NaN</td>\n",
       "      <td>NaN</td>\n",
       "    </tr>\n",
       "  </tbody>\n",
       "</table>\n",
       "</div>"
      ],
      "text/plain": [
       "   Chainage  Unnamed: 0 Unnamed: 1 Position to Unnamed: 2  Unnamed: 3  \\\n",
       "0  Chainage         NaN        NaN         NaN        NaN         NaN   \n",
       "1       NaN         NaN     tunnel         [m]        [m]         NaN   \n",
       "2       NaN         NaN       West         9.8       23.3         NaN   \n",
       "\n",
       "   Distance to Axis 1  Unnamed: 4  Unnamed: 5  Distance to Axis 2  Unnamed: 6  \n",
       "0                 NaN         NaN         NaN                 NaN         NaN  \n",
       "1                 NaN         NaN         NaN                 NaN         NaN  \n",
       "2                 NaN         NaN         NaN                 NaN         NaN  "
      ]
     },
     "execution_count": 71,
     "metadata": {},
     "output_type": "execute_result"
    }
   ],
   "source": [
    "df[4]"
   ]
  },
  {
   "cell_type": "code",
   "execution_count": 324,
   "metadata": {},
   "outputs": [
    {
     "name": "stdout",
     "output_type": "stream",
     "text": [
      "La posizione alla pagina 6 307\n"
     ]
    }
   ],
   "source": [
    "pdf_file = \"C:\\\\Users\\\\fpe\\\\JUPYTER\\\\datimacchina\\\\Reports\\\\HL\\\\Station 21\\\\HL-21-B001.pdf\"\n",
    "\n",
    "\n",
    "object = PyPDF2.PdfFileReader(pdf_file)        \n",
    "NumPages = object.getNumPages()\n",
    "\n",
    "for i in range(0, NumPages):\n",
    "    \n",
    "    PageObj = object.getPage(i)\n",
    "    Text = PageObj.extractText() \n",
    "\n",
    "    try:\n",
    "        posit = re.search(r\"Category:\", Text).start()\n",
    "\n",
    "        print ('La posizione alla pagina {} {}'.format(i,posit))\n",
    "\n",
    "        if 'edium' in Text[posit:posit+25]: bra_ls.append('Medium')\n",
    "        if 'ood' in Text[posit:posit+25]: bra_ls.append('Good')\n",
    "        if 'ritical' in Text[posit:posit+25]: bra_ls.append('Critical')\n",
    "        if 'Med' in Text[posit:posit+25]: bra_ls.append('Medium')\n",
    "        if 'Goo' in Text[posit:posit+25]: bra_ls.append('Good')\n",
    "        if 'Crit' in Text[posit:posit+25]: bra_ls.append('Critical')\n",
    "            \n",
    "    except:\n",
    "        \n",
    "        pass\n"
   ]
  },
  {
   "cell_type": "code",
   "execution_count": 333,
   "metadata": {},
   "outputs": [
    {
     "ename": "IndexError",
     "evalue": "list assignment index out of range",
     "output_type": "error",
     "traceback": [
      "\u001b[1;31m---------------------------------------------------------------------------\u001b[0m",
      "\u001b[1;31mIndexError\u001b[0m                                Traceback (most recent call last)",
      "\u001b[1;32m<ipython-input-333-825aa4e09b17>\u001b[0m in \u001b[0;36m<module>\u001b[1;34m\u001b[0m\n\u001b[1;32m----> 1\u001b[1;33m \u001b[0mbra_ls\u001b[0m\u001b[1;33m[\u001b[0m\u001b[1;36m50\u001b[0m\u001b[1;33m]\u001b[0m \u001b[1;33m=\u001b[0m \u001b[1;34m'Azz'\u001b[0m\u001b[1;33m\u001b[0m\u001b[1;33m\u001b[0m\u001b[0m\n\u001b[0m\u001b[0;32m      2\u001b[0m \u001b[0mbra_ls\u001b[0m\u001b[1;33m\u001b[0m\u001b[1;33m\u001b[0m\u001b[0m\n",
      "\u001b[1;31mIndexError\u001b[0m: list assignment index out of range"
     ]
    }
   ],
   "source": [
    "bra_ls[50] = 'Azz'\n",
    "bra_ls"
   ]
  }
 ],
 "metadata": {
  "kernelspec": {
   "display_name": "Python 3",
   "language": "python",
   "name": "python3"
  },
  "language_info": {
   "codemirror_mode": {
    "name": "ipython",
    "version": 3
   },
   "file_extension": ".py",
   "mimetype": "text/x-python",
   "name": "python",
   "nbconvert_exporter": "python",
   "pygments_lexer": "ipython3",
   "version": "3.7.1"
  }
 },
 "nbformat": 4,
 "nbformat_minor": 2
}
