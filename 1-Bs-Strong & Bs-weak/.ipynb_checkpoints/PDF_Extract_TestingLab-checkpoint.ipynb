{
 "cells": [
  {
   "cell_type": "code",
   "execution_count": 1,
   "metadata": {},
   "outputs": [],
   "source": [
    "#!/usr/bin/env conda run -n newenv1 python\n",
    "import sys\n",
    "print(sys.executable)"
   ]
  },
  {
   "cell_type": "code",
   "execution_count": 2,
   "metadata": {},
   "outputs": [],
   "source": [
    "import numpy as np\n",
    "import tabula\n",
    "import pandas as pd\n",
    "import PyPDF2\n",
    "import re\n",
    "import os\n",
    "import warnings\n",
    "import math\n",
    "warnings.filterwarnings('ignore')\n",
    "# warnings.filterwarnings(action='once')"
   ]
  },
  {
   "cell_type": "code",
   "execution_count": 3,
   "metadata": {},
   "outputs": [],
   "source": [
    "# Navigate to http://visualstudio.microsoft.com/downloads. \n",
    "# Under the Tools for Visual Studio 2019 tab download the Build Tools for Visual Studio 2019. \n",
    "# You’ll then install the tools by checking the C++ build tools option box and clicking Install. \n",
    "# do NOT uncheck any of the automatically selected boxes.\n",
    "# Run the following two commands in cmd mode under the venv you are working it:\n",
    "# conda install -c conda-forge poppler\n",
    "# pip install pdftotext\n",
    "import pdftotext"
   ]
  },
  {
   "cell_type": "code",
   "execution_count": 4,
   "metadata": {},
   "outputs": [
    {
     "data": {
      "text/html": [
       "<style>.container { width:80% !important; }</style>"
      ],
      "text/plain": [
       "<IPython.core.display.HTML object>"
      ]
     },
     "metadata": {},
     "output_type": "display_data"
    }
   ],
   "source": [
    "from IPython.core.display import display, HTML\n",
    "display(HTML(\"<style>.container { width:80% !important; }</style>\"))"
   ]
  },
  {
   "cell_type": "code",
   "execution_count": 5,
   "metadata": {},
   "outputs": [],
   "source": [
    "import h5py"
   ]
  },
  {
   "cell_type": "markdown",
   "metadata": {},
   "source": [
    "### Inizio routine per dati tipo Testing lab"
   ]
  },
  {
   "cell_type": "code",
   "execution_count": 6,
   "metadata": {},
   "outputs": [],
   "source": [
    "path = os.getcwd()+'\\\\DATA'\n",
    "\n",
    "files=[]\n",
    "filespath = []\n",
    "\n",
    "for r,d,f in os.walk(path):\n",
    "    for file in f:\n",
    "        if '.pdf' in file:\n",
    "            files.append(file)\n",
    "            filespath.append(os.path.join(r,file))"
   ]
  },
  {
   "cell_type": "code",
   "execution_count": 7,
   "metadata": {},
   "outputs": [],
   "source": [
    "def is_number(s):\n",
    "    try:\n",
    "        float(s)\n",
    "        if math.isnan(float(s)):\n",
    "            return False\n",
    "        else: \n",
    "            return True\n",
    "    except:\n",
    "        return False"
   ]
  },
  {
   "cell_type": "code",
   "execution_count": 8,
   "metadata": {},
   "outputs": [],
   "source": [
    "# funzione per il regex automatico\n",
    "\n",
    "def findpattern (df,pattern):\n",
    "    r=re.compile(pattern)\n",
    "    for i in np.arange(0,df.shape[0],1):\n",
    "        for e in np.arange(0,df.shape[1],1):\n",
    "            if r.match (str(str(df.iloc[i,e]))):\n",
    "                return df.iloc[i,e],i,e\n",
    "    "
   ]
  },
  {
   "cell_type": "code",
   "execution_count": 9,
   "metadata": {},
   "outputs": [],
   "source": [
    "def find_str2(stringtofind, Text, num):\n",
    "    \n",
    "    \"\"\" find the n° position string after the stringtofind present in a text\"\"\"\n",
    "    \n",
    "    posit = re.search(stringtofind, Text).start()\n",
    "    list_str = re.split(' |\\r|\\n|,|:|;',Text[posit:posit+200])\n",
    "    try:\n",
    "        while True:\n",
    "            list_str.remove('')\n",
    "    except:\n",
    "        pass\n",
    "    return list_str[num]"
   ]
  },
  {
   "cell_type": "code",
   "execution_count": 10,
   "metadata": {},
   "outputs": [],
   "source": [
    "def find_str(stringtofind, Text):\n",
    "    \n",
    "    \"\"\" find the string just after the stringtofind present in a text\"\"\"\n",
    "    \n",
    "    posit = re.search(stringtofind, Text.lower()).start()\n",
    "    list_str = re.split(' |\\r|\\n|,|:|;',Text[posit:posit+200])\n",
    "    try:\n",
    "        while True:\n",
    "            list_str.remove('')\n",
    "    except:\n",
    "        pass\n",
    "    return list_str[1]"
   ]
  },
  {
   "cell_type": "code",
   "execution_count": 11,
   "metadata": {},
   "outputs": [],
   "source": [
    "def new_df_row(pdf_file):\n",
    "    \n",
    "    file=files[filespath.index(pdf_file)]\n",
    "    print(pdf_file)\n",
    "    \n",
    "    list_err = []\n",
    "    \n",
    "    try:\n",
    "    \n",
    "        df = tabula.read_pdf(pdf_file, pages=[1]) # cerca solo nella prima pagina\n",
    "        \n",
    "        #    0         1            2           3            4          5       6            7\n",
    "        #['name','dry_weight','water_cont','void_ratio','degree_sat','UCS','elastic_mod','poisson',\n",
    "        #   8        9         10      11       12       13       14        15\n",
    "        #'data8','diameter','force','data11','data12','data13','rock_type','name_file'])\n",
    "\n",
    "        lista0 = ['-','-','-','-','-','-','-','-','-','-','-','-','-','-','-', file]\n",
    "\n",
    "        for i in np.arange(0,len(df),1):  # 'i' cicla tutte le tabelle\n",
    "            \n",
    "            for e in np.arange(0,df[i].shape[0],1):   # 'e' numero riga\n",
    "                \n",
    "                \n",
    "                try:\n",
    "                \n",
    "                    #if 'power' in stringa1.lower():\n",
    "                    #if re.search(r'\\bpower\\b', stringa1, re.I):     #per cercare power and not horsepower\n",
    "\n",
    "                    if 'specimen' in str(df[i].iloc[e,0]).lower():         lista0[0] = str(df[i].iloc[0,1])   # nome del campione\n",
    "\n",
    "                    elif 'dry unit' in str(df[i].iloc[e,0]).lower():         lista0[1] = str(df[i].iloc[e,2]) # Dry unit weight\n",
    "                    elif 'water content'   in str(df[i].iloc[e,0]).lower():  lista0[2] = str(df[i].iloc[e,2]) # Water content\n",
    "                    elif 'void ratio' in str(df[i].iloc[e,0]).lower():       lista0[3] = str(df[i].iloc[e,2]) # void ratio                 \n",
    "                    elif 'saturation' in str(df[i].iloc[e,0]).lower():       lista0[4] = str(df[i].iloc[e,2]) # degree od saturation\n",
    "\n",
    "                    elif 'unconfined compr' in str(df[i].iloc[e,0]).lower(): \n",
    "                        \n",
    "                        if is_number(df[i].iloc[e+1,1]):                     lista0[5] = str(df[i].iloc[e+1,1]) # UCS \n",
    "                        elif is_number(df[i].iloc[e+1,0]):                   lista0[5] = str(df[i].iloc[e+1,0]) # UCS \n",
    "                        elif is_number(df[i].iloc[e,1]):                     lista0[5] = str(df[i].iloc[e,1]) # UCS \n",
    "                            \n",
    "  \n",
    "                    elif 'modulus' in str(df[i].iloc[e,0]).lower():\n",
    "                        if is_number(df[i].iloc[e,1]):                       lista0[6] = str(df[i].iloc[e,1]) # modulus \n",
    "                        elif is_number(df[i].iloc[e+1,0]):                   lista0[6] = str(df[i].iloc[e+1,0]) # modulus                        \n",
    "        \n",
    "                    elif 'poisson' in str(df[i].iloc[e,0]).lower():\n",
    "                \n",
    "                        if is_number(df[i].iloc[e,1]):                       lista0[7] = str(df[i].iloc[e,1]) # poisson \n",
    "                        elif is_number(df[i].iloc[e+1,0]):                   lista0[7] = str(df[i].iloc[e+1,0]) # poisson                \n",
    "                \n",
    "                \n",
    "                \n",
    "                except:\n",
    "                    \n",
    "                    try:\n",
    "                        \n",
    "                        if 'dry unit' in str(df[i].iloc[e,0]).lower():  \n",
    "                            for ee in str(df[i].iloc[e,0]).split(' '):\n",
    "                                if is_number(ee):     lista0[1] = int(ee) # Dry unit weight  \n",
    "\n",
    "                        elif 'water content' in str(df[i].iloc[e,0]).lower():  \n",
    "                            for ee in str(df[i].iloc[e,0]).split(' '):\n",
    "                                if is_number(ee):     lista0[2] = float(ee) # Water content  \n",
    "\n",
    "                        elif 'void ratio' in str(df[i].iloc[e,0]).lower():  \n",
    "                            for ee in str(df[i].iloc[e,0]).split(' '):\n",
    "                                if is_number(ee):     lista0[3] = float(ee) # void ratio  \n",
    "\n",
    "                        elif 'saturation' in str(df[i].iloc[e,0]).lower():  \n",
    "                            for ee in str(df[i].iloc[e,0]).split(' '):\n",
    "                                if is_number(ee):     lista0[4] = float(ee) # degree od saturation \n",
    "                    \n",
    "                    except Exception as er1:\n",
    "                        print('Table',i,'row',e,'Error1:',er1)             \n",
    "                \n",
    "    except Exception as er1:\n",
    "        print('Error1:',er1)\n",
    "        \n",
    "        \n",
    "    ## FIND ROCK TYPE\n",
    "    \n",
    "    with open(pdf_file, \"rb\") as f:\n",
    "        pdf = pdftotext.PDF(f)\n",
    "        \n",
    "    Text = pdf[0].lower()   \n",
    "    \n",
    "    lista0[14] = find_str(r'description', Text)        \n",
    "    \n",
    "    try:\n",
    "        # find water content\n",
    "\n",
    "        try:\n",
    "            str0 = find_str2('water content', Text.lower(), 1)\n",
    "            if float(str0) >0.01: lista0[2] = str0\n",
    "        except:\n",
    "            pass\n",
    "        try:\n",
    "            str0 = find_str2('water content', Text.lower(), 2)\n",
    "            if float(str0) >0.01: lista0[2] = str0 \n",
    "        except:\n",
    "            pass\n",
    "        try:\n",
    "            str0 = find_str2('water content', Text.lower(), 3)\n",
    "            if float(str0) >0.01: lista0[2] = str0  \n",
    "        except:\n",
    "            pass\n",
    "\n",
    "    except:\n",
    "        print('water content string not found')\n",
    "\n",
    "    try:\n",
    "        # find dry density\n",
    "        try:\n",
    "            str1 = find_str2('unit weight', Text.lower(), 3)\n",
    "            if float(str1) >1200: lista0[1] = str1\n",
    "        except:\n",
    "            pass\n",
    "        try:\n",
    "            str01 = find_str2('unit weight', Text.lower(), 2)\n",
    "            if float(str1) >1200: lista0[1] = str1 \n",
    "        except:\n",
    "            pass\n",
    "        try:\n",
    "            str1 = find_str2('unit weight', Text.lower(), 1)\n",
    "            if float(str1) >1200: lista0[1] = str1  \n",
    "        except:\n",
    "            pass  \n",
    "    except:\n",
    "        print('dry density string not found')\n",
    "        \n",
    "        \n",
    "    try:\n",
    "        # no.\n",
    "        try:\n",
    "            str1 = find_str2('no.', Text.lower(), 4)\n",
    "            if '-' not in lista0[0] and '-' in str1: lista0[0] = str1\n",
    "        except:\n",
    "            pass\n",
    "        try:\n",
    "            str1 = find_str2('no.', Text.lower(), 3)\n",
    "            if '-' not in lista0[0] and  '-' in str1: lista0[0] = str1\n",
    "        except:\n",
    "            pass\n",
    "        try:\n",
    "            str1 = find_str2('no.', Text.lower(), 2)\n",
    "            if '-' not in lista0[0] and  '-' in str1: lista0[0] = str1\n",
    "        except:\n",
    "            pass  \n",
    "        \n",
    "    except:\n",
    "        print('dry density string not found')\n",
    "            \n",
    "    return lista0"
   ]
  },
  {
   "cell_type": "code",
   "execution_count": null,
   "metadata": {
    "scrolled": true
   },
   "outputs": [
    {
     "name": "stdout",
     "output_type": "stream",
     "text": [
      "C:\\Users\\fpe\\JUPYTER\\datirocce\\1-Bs-Strong & Bs-weak\\DATA\\Modulus_BS-1_CET.pdf\n",
      "C:\\Users\\fpe\\JUPYTER\\datirocce\\1-Bs-Strong & Bs-weak\\DATA\\Modulus_BS-2_CET.pdf\n",
      "C:\\Users\\fpe\\JUPYTER\\datirocce\\1-Bs-Strong & Bs-weak\\DATA\\Modulus_BS-3_CET.pdf\n",
      "C:\\Users\\fpe\\JUPYTER\\datirocce\\1-Bs-Strong & Bs-weak\\DATA\\Modulus_BS-4_CET.pdf\n",
      "C:\\Users\\fpe\\JUPYTER\\datirocce\\1-Bs-Strong & Bs-weak\\DATA\\Modulus_BS-5_CET.pdf\n",
      "C:\\Users\\fpe\\JUPYTER\\datirocce\\1-Bs-Strong & Bs-weak\\DATA\\Modulus_BS-6_MAT.pdf\n",
      "C:\\Users\\fpe\\JUPYTER\\datirocce\\1-Bs-Strong & Bs-weak\\DATA\\UCS_BS-19_GEOR001658.pdf\n",
      "C:\\Users\\fpe\\JUPYTER\\datirocce\\1-Bs-Strong & Bs-weak\\DATA\\UCS_BS-20_GEOR001659.pdf\n",
      "C:\\Users\\fpe\\JUPYTER\\datirocce\\1-Bs-Strong & Bs-weak\\DATA\\UCS_BS-21_GEOR001660.pdf\n",
      "C:\\Users\\fpe\\JUPYTER\\datirocce\\1-Bs-Strong & Bs-weak\\DATA\\UCS_BS-22_GEOR001661.pdf\n",
      "C:\\Users\\fpe\\JUPYTER\\datirocce\\1-Bs-Strong & Bs-weak\\DATA\\UCS_BS-23_GEOR001662.pdf\n",
      "C:\\Users\\fpe\\JUPYTER\\datirocce\\1-Bs-Strong & Bs-weak\\DATA\\UCS_BS-24_GEOR001663.pdf\n",
      "C:\\Users\\fpe\\JUPYTER\\datirocce\\1-Bs-Strong & Bs-weak\\DATA\\UCS_BS-25_GEOR001664.pdf\n",
      "C:\\Users\\fpe\\JUPYTER\\datirocce\\1-Bs-Strong & Bs-weak\\DATA\\UCS_BS-26_GEOR001665.pdf\n",
      "C:\\Users\\fpe\\JUPYTER\\datirocce\\1-Bs-Strong & Bs-weak\\DATA\\UCS_BS-27_GEOR001666.pdf\n",
      "C:\\Users\\fpe\\JUPYTER\\datirocce\\1-Bs-Strong & Bs-weak\\DATA\\UCS_BS-28_GEOR001667.pdf\n",
      "C:\\Users\\fpe\\JUPYTER\\datirocce\\1-Bs-Strong & Bs-weak\\DATA\\UCS_BS-29_GEOR00166.pdf\n"
     ]
    }
   ],
   "source": [
    "df1 = pd.DataFrame(columns=['name','dry_weight','water_cont','void_ratio','degree_sat','UCS','elastic_mod','poisson',\n",
    "                            'data8','diameter','force','data11','data12','depth','rock_type','name_file'])\n",
    "\n",
    "\n",
    "for file_path_ in filespath[:]:\n",
    "\n",
    "    row_ls = new_df_row(file_path_)\n",
    "    \n",
    "    df1.loc[len(df1)]=row_ls\n",
    "    \n",
    "    \n",
    "df1    "
   ]
  },
  {
   "cell_type": "code",
   "execution_count": null,
   "metadata": {},
   "outputs": [],
   "source": [
    "df1.to_hdf('df_testingLab.h5', key='losses')"
   ]
  },
  {
   "cell_type": "code",
   "execution_count": null,
   "metadata": {},
   "outputs": [],
   "source": []
  }
 ],
 "metadata": {
  "kernelspec": {
   "display_name": "Python 3",
   "language": "python",
   "name": "python3"
  },
  "language_info": {
   "codemirror_mode": {
    "name": "ipython",
    "version": 3
   },
   "file_extension": ".py",
   "mimetype": "text/x-python",
   "name": "python",
   "nbconvert_exporter": "python",
   "pygments_lexer": "ipython3",
   "version": "3.6.9"
  }
 },
 "nbformat": 4,
 "nbformat_minor": 2
}
